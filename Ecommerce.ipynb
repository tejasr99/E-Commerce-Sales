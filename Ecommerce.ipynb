{
 "cells": [
  {
   "cell_type": "markdown",
   "id": "72d3c009",
   "metadata": {},
   "source": [
    "# Ecommerce Data "
   ]
  },
  {
   "cell_type": "markdown",
   "id": "6e7ad366",
   "metadata": {},
   "source": [
    "#### by Tejas R"
   ]
  },
  {
   "cell_type": "markdown",
   "id": "ac0638f2",
   "metadata": {},
   "source": [
    "**Business Objective:**\n",
    "\n",
    "**A US based Ecommerce sales company wants us to analyze a sales report showing information of YTD(Year to Date) sales and generate insights for below scenarios:**\n",
    "\n",
    "**1.Find YTD sales performance by each state.**\n",
    "\n",
    "**2.Top 5 and bottom 5 products by sales.**\n",
    "\n",
    "**3.Sales by Region to know the best and worst performing region all over country.**\n",
    "\n",
    "**4.Sales by shipping type to get the best shipping type percentage.**\n",
    "\n",
    "**5.Analyze the sales on daily, weekly and monthly basis.**\n",
    "\n",
    "**6.Find sales trends by product category.**\n",
    "\n",
    "**7.Find sales trends by customer category.**\n",
    "\n",
    "**8.Profits based on States, products, and Regions.**"
   ]
  },
  {
   "cell_type": "code",
   "execution_count": 1,
   "id": "0f80f517",
   "metadata": {},
   "outputs": [],
   "source": [
    "import os\n",
    "os.chdir('C:\\\\Users\\\\Tejas\\\\Desktop\\\\Data Science\\\\Data Analyst Project\\\\Ecommerce Sales')"
   ]
  },
  {
   "cell_type": "code",
   "execution_count": 2,
   "id": "7eee47f4",
   "metadata": {},
   "outputs": [
    {
     "name": "stdout",
     "output_type": "stream",
     "text": [
      " Volume in drive C is Windows-SSD\n",
      " Volume Serial Number is 0CE4-64E6\n",
      "\n",
      " Directory of C:\\Users\\Tejas\\Desktop\\Data Science\\Data Analyst Project\\Ecommerce Sales\n",
      "\n",
      "19-07-2023  11:47    <DIR>          .\n",
      "11-07-2023  13:00    <DIR>          ..\n",
      "12-07-2023  12:31    <DIR>          .ipynb_checkpoints\n",
      "12-07-2023  13:22    <DIR>          .vs\n",
      "19-07-2023  11:47           633,289 Ecommerce.ipynb\n",
      "11-07-2023  19:30        25,634,010 ecommerce_data.csv\n",
      "11-07-2023  12:58            24,514 Final Back.jpg\n",
      "11-07-2023  20:44                53 SQLQuery1.sql\n",
      "11-07-2023  12:59             1,840 us_state_long_lat_codes.csv\n",
      "               5 File(s)     26,293,706 bytes\n",
      "               4 Dir(s)  18,762,563,584 bytes free\n"
     ]
    }
   ],
   "source": [
    "ls"
   ]
  },
  {
   "cell_type": "code",
   "execution_count": 3,
   "id": "54b6b97b",
   "metadata": {},
   "outputs": [],
   "source": [
    "import pandas as pd\n",
    "import warnings\n",
    "warnings.filterwarnings('ignore')\n",
    "import matplotlib.pyplot as plt\n",
    "import seaborn as sns\n",
    "import datetime"
   ]
  },
  {
   "cell_type": "code",
   "execution_count": 4,
   "id": "a6b21ee4",
   "metadata": {},
   "outputs": [],
   "source": [
    "ec = pd.read_csv('ecommerce_data.csv',encoding='unicode_escape')"
   ]
  },
  {
   "cell_type": "code",
   "execution_count": 5,
   "id": "67831c92",
   "metadata": {},
   "outputs": [
    {
     "data": {
      "text/html": [
       "<div>\n",
       "<style scoped>\n",
       "    .dataframe tbody tr th:only-of-type {\n",
       "        vertical-align: middle;\n",
       "    }\n",
       "\n",
       "    .dataframe tbody tr th {\n",
       "        vertical-align: top;\n",
       "    }\n",
       "\n",
       "    .dataframe thead th {\n",
       "        text-align: right;\n",
       "    }\n",
       "</style>\n",
       "<table border=\"1\" class=\"dataframe\">\n",
       "  <thead>\n",
       "    <tr style=\"text-align: right;\">\n",
       "      <th></th>\n",
       "      <th>customer_id</th>\n",
       "      <th>customer_first_name</th>\n",
       "      <th>customer_last_name</th>\n",
       "      <th>category_name</th>\n",
       "      <th>product_name</th>\n",
       "      <th>customer_segment</th>\n",
       "      <th>customer_city</th>\n",
       "      <th>customer_state</th>\n",
       "      <th>customer_country</th>\n",
       "      <th>customer_region</th>\n",
       "      <th>...</th>\n",
       "      <th>order_date</th>\n",
       "      <th>order_id</th>\n",
       "      <th>ship_date</th>\n",
       "      <th>shipping_type</th>\n",
       "      <th>days_for_shipment_scheduled</th>\n",
       "      <th>days_for_shipment_real</th>\n",
       "      <th>order_item_discount</th>\n",
       "      <th>sales_per_order</th>\n",
       "      <th>order_quantity</th>\n",
       "      <th>profit_per_order</th>\n",
       "    </tr>\n",
       "  </thead>\n",
       "  <tbody>\n",
       "    <tr>\n",
       "      <th>0</th>\n",
       "      <td>C_ID_45866</td>\n",
       "      <td>Mary</td>\n",
       "      <td>Fuller</td>\n",
       "      <td>Office Supplies</td>\n",
       "      <td>Xerox 1913</td>\n",
       "      <td>Corporate</td>\n",
       "      <td>New Rochelle</td>\n",
       "      <td>New York</td>\n",
       "      <td>United States</td>\n",
       "      <td>East</td>\n",
       "      <td>...</td>\n",
       "      <td>11-05-2022</td>\n",
       "      <td>O_ID_3001072</td>\n",
       "      <td>11-07-2022</td>\n",
       "      <td>Second Class</td>\n",
       "      <td>2</td>\n",
       "      <td>2</td>\n",
       "      <td>35.0</td>\n",
       "      <td>500.0</td>\n",
       "      <td>5</td>\n",
       "      <td>223.199997</td>\n",
       "    </tr>\n",
       "    <tr>\n",
       "      <th>1</th>\n",
       "      <td>C_ID_44932</td>\n",
       "      <td>Alan</td>\n",
       "      <td>Edelman</td>\n",
       "      <td>Office Supplies</td>\n",
       "      <td>#6 3/4 Gummed Flap White Envelopes</td>\n",
       "      <td>Corporate</td>\n",
       "      <td>Houston</td>\n",
       "      <td>Texas</td>\n",
       "      <td>United States</td>\n",
       "      <td>Central</td>\n",
       "      <td>...</td>\n",
       "      <td>20-06-2022</td>\n",
       "      <td>O_ID_3009170</td>\n",
       "      <td>23-06-2022</td>\n",
       "      <td>Second Class</td>\n",
       "      <td>2</td>\n",
       "      <td>3</td>\n",
       "      <td>85.0</td>\n",
       "      <td>500.0</td>\n",
       "      <td>5</td>\n",
       "      <td>199.199997</td>\n",
       "    </tr>\n",
       "    <tr>\n",
       "      <th>2</th>\n",
       "      <td>C_ID_70880</td>\n",
       "      <td>Mary</td>\n",
       "      <td>Gayman</td>\n",
       "      <td>Office Supplies</td>\n",
       "      <td>Belkin 8 Outlet Surge Protector</td>\n",
       "      <td>Consumer</td>\n",
       "      <td>Louisville</td>\n",
       "      <td>Kentucky</td>\n",
       "      <td>United States</td>\n",
       "      <td>South</td>\n",
       "      <td>...</td>\n",
       "      <td>25-06-2022</td>\n",
       "      <td>O_ID_3047567</td>\n",
       "      <td>30-06-2022</td>\n",
       "      <td>Standard Class</td>\n",
       "      <td>4</td>\n",
       "      <td>5</td>\n",
       "      <td>75.0</td>\n",
       "      <td>44.0</td>\n",
       "      <td>5</td>\n",
       "      <td>195.500000</td>\n",
       "    </tr>\n",
       "    <tr>\n",
       "      <th>3</th>\n",
       "      <td>C_ID_33157</td>\n",
       "      <td>Raymond</td>\n",
       "      <td>Eason</td>\n",
       "      <td>Office Supplies</td>\n",
       "      <td>GBC VeloBinder Manual Binding System</td>\n",
       "      <td>Corporate</td>\n",
       "      <td>Chicago</td>\n",
       "      <td>Illinois</td>\n",
       "      <td>United States</td>\n",
       "      <td>Central</td>\n",
       "      <td>...</td>\n",
       "      <td>10-06-2022</td>\n",
       "      <td>O_ID_3060575</td>\n",
       "      <td>10-10-2022</td>\n",
       "      <td>Second Class</td>\n",
       "      <td>2</td>\n",
       "      <td>4</td>\n",
       "      <td>60.0</td>\n",
       "      <td>254.0</td>\n",
       "      <td>1</td>\n",
       "      <td>220.000000</td>\n",
       "    </tr>\n",
       "    <tr>\n",
       "      <th>4</th>\n",
       "      <td>C_ID_58303</td>\n",
       "      <td>Mary</td>\n",
       "      <td>Gonzalez</td>\n",
       "      <td>Furniture</td>\n",
       "      <td>Eldon Pizzaz Desk Accessories</td>\n",
       "      <td>Home Office</td>\n",
       "      <td>Philadelphia</td>\n",
       "      <td>Pennsylvania</td>\n",
       "      <td>United States</td>\n",
       "      <td>East</td>\n",
       "      <td>...</td>\n",
       "      <td>02-05-2022</td>\n",
       "      <td>O_ID_3064311</td>\n",
       "      <td>08-01-2022</td>\n",
       "      <td>First Class</td>\n",
       "      <td>1</td>\n",
       "      <td>2</td>\n",
       "      <td>125.0</td>\n",
       "      <td>500.0</td>\n",
       "      <td>1</td>\n",
       "      <td>97.500000</td>\n",
       "    </tr>\n",
       "  </tbody>\n",
       "</table>\n",
       "<p>5 rows × 21 columns</p>\n",
       "</div>"
      ],
      "text/plain": [
       "  customer_id customer_first_name customer_last_name    category_name  \\\n",
       "0  C_ID_45866                Mary             Fuller  Office Supplies   \n",
       "1  C_ID_44932                Alan            Edelman  Office Supplies   \n",
       "2  C_ID_70880                Mary             Gayman  Office Supplies   \n",
       "3  C_ID_33157             Raymond              Eason  Office Supplies   \n",
       "4  C_ID_58303                Mary           Gonzalez        Furniture   \n",
       "\n",
       "                           product_name customer_segment customer_city  \\\n",
       "0                            Xerox 1913        Corporate  New Rochelle   \n",
       "1    #6 3/4 Gummed Flap White Envelopes        Corporate       Houston   \n",
       "2       Belkin 8 Outlet Surge Protector         Consumer    Louisville   \n",
       "3  GBC VeloBinder Manual Binding System        Corporate       Chicago   \n",
       "4         Eldon Pizzaz Desk Accessories      Home Office  Philadelphia   \n",
       "\n",
       "  customer_state customer_country customer_region  ...  order_date  \\\n",
       "0       New York    United States            East  ...  11-05-2022   \n",
       "1          Texas    United States         Central  ...  20-06-2022   \n",
       "2       Kentucky    United States           South  ...  25-06-2022   \n",
       "3       Illinois    United States         Central  ...  10-06-2022   \n",
       "4   Pennsylvania    United States            East  ...  02-05-2022   \n",
       "\n",
       "       order_id   ship_date   shipping_type days_for_shipment_scheduled  \\\n",
       "0  O_ID_3001072  11-07-2022    Second Class                           2   \n",
       "1  O_ID_3009170  23-06-2022    Second Class                           2   \n",
       "2  O_ID_3047567  30-06-2022  Standard Class                           4   \n",
       "3  O_ID_3060575  10-10-2022    Second Class                           2   \n",
       "4  O_ID_3064311  08-01-2022     First Class                           1   \n",
       "\n",
       "   days_for_shipment_real  order_item_discount  sales_per_order  \\\n",
       "0                       2                 35.0            500.0   \n",
       "1                       3                 85.0            500.0   \n",
       "2                       5                 75.0             44.0   \n",
       "3                       4                 60.0            254.0   \n",
       "4                       2                125.0            500.0   \n",
       "\n",
       "   order_quantity  profit_per_order  \n",
       "0               5        223.199997  \n",
       "1               5        199.199997  \n",
       "2               5        195.500000  \n",
       "3               1        220.000000  \n",
       "4               1         97.500000  \n",
       "\n",
       "[5 rows x 21 columns]"
      ]
     },
     "execution_count": 5,
     "metadata": {},
     "output_type": "execute_result"
    }
   ],
   "source": [
    "ec.head()"
   ]
  },
  {
   "cell_type": "code",
   "execution_count": 6,
   "id": "80833f69",
   "metadata": {},
   "outputs": [
    {
     "data": {
      "text/plain": [
       "(113270, 21)"
      ]
     },
     "execution_count": 6,
     "metadata": {},
     "output_type": "execute_result"
    }
   ],
   "source": [
    "ec.shape"
   ]
  },
  {
   "cell_type": "markdown",
   "id": "06cf18d8",
   "metadata": {},
   "source": [
    "This dataset contains 1132710 rows and 21 columns"
   ]
  },
  {
   "cell_type": "code",
   "execution_count": 7,
   "id": "3dc87b1a",
   "metadata": {},
   "outputs": [
    {
     "data": {
      "text/plain": [
       "customer_id                    0\n",
       "customer_first_name            0\n",
       "customer_last_name             0\n",
       "category_name                  0\n",
       "product_name                   0\n",
       "customer_segment               0\n",
       "customer_city                  0\n",
       "customer_state                 0\n",
       "customer_country               0\n",
       "customer_region                0\n",
       "delivery_status                0\n",
       "order_date                     0\n",
       "order_id                       0\n",
       "ship_date                      0\n",
       "shipping_type                  0\n",
       "days_for_shipment_scheduled    0\n",
       "days_for_shipment_real         0\n",
       "order_item_discount            0\n",
       "sales_per_order                0\n",
       "order_quantity                 0\n",
       "profit_per_order               0\n",
       "dtype: int64"
      ]
     },
     "execution_count": 7,
     "metadata": {},
     "output_type": "execute_result"
    }
   ],
   "source": [
    "ec.isnull().sum()"
   ]
  },
  {
   "cell_type": "code",
   "execution_count": 8,
   "id": "75ee19f3",
   "metadata": {},
   "outputs": [
    {
     "name": "stdout",
     "output_type": "stream",
     "text": [
      "<class 'pandas.core.frame.DataFrame'>\n",
      "RangeIndex: 113270 entries, 0 to 113269\n",
      "Data columns (total 21 columns):\n",
      " #   Column                       Non-Null Count   Dtype  \n",
      "---  ------                       --------------   -----  \n",
      " 0   customer_id                  113270 non-null  object \n",
      " 1   customer_first_name          113270 non-null  object \n",
      " 2   customer_last_name           113270 non-null  object \n",
      " 3   category_name                113270 non-null  object \n",
      " 4   product_name                 113270 non-null  object \n",
      " 5   customer_segment             113270 non-null  object \n",
      " 6   customer_city                113270 non-null  object \n",
      " 7   customer_state               113270 non-null  object \n",
      " 8   customer_country             113270 non-null  object \n",
      " 9   customer_region              113270 non-null  object \n",
      " 10  delivery_status              113270 non-null  object \n",
      " 11  order_date                   113270 non-null  object \n",
      " 12  order_id                     113270 non-null  object \n",
      " 13  ship_date                    113270 non-null  object \n",
      " 14  shipping_type                113270 non-null  object \n",
      " 15  days_for_shipment_scheduled  113270 non-null  int64  \n",
      " 16  days_for_shipment_real       113270 non-null  int64  \n",
      " 17  order_item_discount          113270 non-null  float64\n",
      " 18  sales_per_order              113270 non-null  float64\n",
      " 19  order_quantity               113270 non-null  int64  \n",
      " 20  profit_per_order             113270 non-null  float64\n",
      "dtypes: float64(3), int64(3), object(15)\n",
      "memory usage: 18.1+ MB\n"
     ]
    }
   ],
   "source": [
    "ec.info()"
   ]
  },
  {
   "cell_type": "markdown",
   "id": "23b96afd",
   "metadata": {},
   "source": [
    "Here we need to change the data types of order date and ship date from object to datetime format."
   ]
  },
  {
   "cell_type": "code",
   "execution_count": 9,
   "id": "6197de42",
   "metadata": {},
   "outputs": [
    {
     "data": {
      "text/plain": [
       "0    11-05-2022\n",
       "1    20-06-2022\n",
       "2    25-06-2022\n",
       "3    10-06-2022\n",
       "4    02-05-2022\n",
       "Name: order_date, dtype: object"
      ]
     },
     "execution_count": 9,
     "metadata": {},
     "output_type": "execute_result"
    }
   ],
   "source": [
    "ec['order_date'].head()"
   ]
  },
  {
   "cell_type": "code",
   "execution_count": 10,
   "id": "ddfcaecb",
   "metadata": {
    "scrolled": false
   },
   "outputs": [],
   "source": [
    "ec['order_date'] = pd.to_datetime(ec['order_date'])\n",
    "ec['ship_date'] = pd.to_datetime(ec['ship_date'])"
   ]
  },
  {
   "cell_type": "code",
   "execution_count": 11,
   "id": "deb5db7a",
   "metadata": {},
   "outputs": [
    {
     "name": "stdout",
     "output_type": "stream",
     "text": [
      "<class 'pandas.core.frame.DataFrame'>\n",
      "RangeIndex: 113270 entries, 0 to 113269\n",
      "Data columns (total 21 columns):\n",
      " #   Column                       Non-Null Count   Dtype         \n",
      "---  ------                       --------------   -----         \n",
      " 0   customer_id                  113270 non-null  object        \n",
      " 1   customer_first_name          113270 non-null  object        \n",
      " 2   customer_last_name           113270 non-null  object        \n",
      " 3   category_name                113270 non-null  object        \n",
      " 4   product_name                 113270 non-null  object        \n",
      " 5   customer_segment             113270 non-null  object        \n",
      " 6   customer_city                113270 non-null  object        \n",
      " 7   customer_state               113270 non-null  object        \n",
      " 8   customer_country             113270 non-null  object        \n",
      " 9   customer_region              113270 non-null  object        \n",
      " 10  delivery_status              113270 non-null  object        \n",
      " 11  order_date                   113270 non-null  datetime64[ns]\n",
      " 12  order_id                     113270 non-null  object        \n",
      " 13  ship_date                    113270 non-null  datetime64[ns]\n",
      " 14  shipping_type                113270 non-null  object        \n",
      " 15  days_for_shipment_scheduled  113270 non-null  int64         \n",
      " 16  days_for_shipment_real       113270 non-null  int64         \n",
      " 17  order_item_discount          113270 non-null  float64       \n",
      " 18  sales_per_order              113270 non-null  float64       \n",
      " 19  order_quantity               113270 non-null  int64         \n",
      " 20  profit_per_order             113270 non-null  float64       \n",
      "dtypes: datetime64[ns](2), float64(3), int64(3), object(13)\n",
      "memory usage: 18.1+ MB\n"
     ]
    }
   ],
   "source": [
    "ec.info()"
   ]
  },
  {
   "cell_type": "code",
   "execution_count": 12,
   "id": "b3e5beaf",
   "metadata": {},
   "outputs": [
    {
     "data": {
      "text/plain": [
       "0"
      ]
     },
     "execution_count": 12,
     "metadata": {},
     "output_type": "execute_result"
    }
   ],
   "source": [
    "ec.duplicated().sum()"
   ]
  },
  {
   "cell_type": "code",
   "execution_count": 13,
   "id": "484399dd",
   "metadata": {},
   "outputs": [
    {
     "data": {
      "text/plain": [
       "0"
      ]
     },
     "execution_count": 13,
     "metadata": {},
     "output_type": "execute_result"
    }
   ],
   "source": [
    "ec.order_id.duplicated().sum()"
   ]
  },
  {
   "cell_type": "code",
   "execution_count": 14,
   "id": "09b0cd38",
   "metadata": {},
   "outputs": [
    {
     "data": {
      "text/html": [
       "<div>\n",
       "<style scoped>\n",
       "    .dataframe tbody tr th:only-of-type {\n",
       "        vertical-align: middle;\n",
       "    }\n",
       "\n",
       "    .dataframe tbody tr th {\n",
       "        vertical-align: top;\n",
       "    }\n",
       "\n",
       "    .dataframe thead th {\n",
       "        text-align: right;\n",
       "    }\n",
       "</style>\n",
       "<table border=\"1\" class=\"dataframe\">\n",
       "  <thead>\n",
       "    <tr style=\"text-align: right;\">\n",
       "      <th></th>\n",
       "      <th>days_for_shipment_scheduled</th>\n",
       "      <th>days_for_shipment_real</th>\n",
       "      <th>order_item_discount</th>\n",
       "      <th>sales_per_order</th>\n",
       "      <th>order_quantity</th>\n",
       "      <th>profit_per_order</th>\n",
       "    </tr>\n",
       "  </thead>\n",
       "  <tbody>\n",
       "    <tr>\n",
       "      <th>count</th>\n",
       "      <td>113270.000000</td>\n",
       "      <td>113270.000000</td>\n",
       "      <td>113270.000000</td>\n",
       "      <td>113270.000000</td>\n",
       "      <td>113270.000000</td>\n",
       "      <td>113270.000000</td>\n",
       "    </tr>\n",
       "    <tr>\n",
       "      <th>mean</th>\n",
       "      <td>2.931209</td>\n",
       "      <td>3.464006</td>\n",
       "      <td>21.105465</td>\n",
       "      <td>204.499537</td>\n",
       "      <td>1.967564</td>\n",
       "      <td>23.069382</td>\n",
       "    </tr>\n",
       "    <tr>\n",
       "      <th>std</th>\n",
       "      <td>1.375914</td>\n",
       "      <td>1.632198</td>\n",
       "      <td>22.959207</td>\n",
       "      <td>141.443090</td>\n",
       "      <td>1.355254</td>\n",
       "      <td>105.288561</td>\n",
       "    </tr>\n",
       "    <tr>\n",
       "      <th>min</th>\n",
       "      <td>0.000000</td>\n",
       "      <td>0.000000</td>\n",
       "      <td>0.000000</td>\n",
       "      <td>9.990000</td>\n",
       "      <td>1.000000</td>\n",
       "      <td>-3366.000000</td>\n",
       "    </tr>\n",
       "    <tr>\n",
       "      <th>25%</th>\n",
       "      <td>2.000000</td>\n",
       "      <td>2.000000</td>\n",
       "      <td>5.500000</td>\n",
       "      <td>119.980003</td>\n",
       "      <td>1.000000</td>\n",
       "      <td>7.200000</td>\n",
       "    </tr>\n",
       "    <tr>\n",
       "      <th>50%</th>\n",
       "      <td>4.000000</td>\n",
       "      <td>3.000000</td>\n",
       "      <td>14.400000</td>\n",
       "      <td>199.919998</td>\n",
       "      <td>1.000000</td>\n",
       "      <td>32.029999</td>\n",
       "    </tr>\n",
       "    <tr>\n",
       "      <th>75%</th>\n",
       "      <td>4.000000</td>\n",
       "      <td>5.000000</td>\n",
       "      <td>30.000000</td>\n",
       "      <td>299.950012</td>\n",
       "      <td>3.000000</td>\n",
       "      <td>65.570000</td>\n",
       "    </tr>\n",
       "    <tr>\n",
       "      <th>max</th>\n",
       "      <td>4.000000</td>\n",
       "      <td>6.000000</td>\n",
       "      <td>500.000000</td>\n",
       "      <td>1999.989990</td>\n",
       "      <td>5.000000</td>\n",
       "      <td>2600.000000</td>\n",
       "    </tr>\n",
       "  </tbody>\n",
       "</table>\n",
       "</div>"
      ],
      "text/plain": [
       "       days_for_shipment_scheduled  days_for_shipment_real  \\\n",
       "count                113270.000000           113270.000000   \n",
       "mean                      2.931209                3.464006   \n",
       "std                       1.375914                1.632198   \n",
       "min                       0.000000                0.000000   \n",
       "25%                       2.000000                2.000000   \n",
       "50%                       4.000000                3.000000   \n",
       "75%                       4.000000                5.000000   \n",
       "max                       4.000000                6.000000   \n",
       "\n",
       "       order_item_discount  sales_per_order  order_quantity  profit_per_order  \n",
       "count        113270.000000    113270.000000   113270.000000     113270.000000  \n",
       "mean             21.105465       204.499537        1.967564         23.069382  \n",
       "std              22.959207       141.443090        1.355254        105.288561  \n",
       "min               0.000000         9.990000        1.000000      -3366.000000  \n",
       "25%               5.500000       119.980003        1.000000          7.200000  \n",
       "50%              14.400000       199.919998        1.000000         32.029999  \n",
       "75%              30.000000       299.950012        3.000000         65.570000  \n",
       "max             500.000000      1999.989990        5.000000       2600.000000  "
      ]
     },
     "execution_count": 14,
     "metadata": {},
     "output_type": "execute_result"
    }
   ],
   "source": [
    "ec.describe()"
   ]
  },
  {
   "cell_type": "code",
   "execution_count": 15,
   "id": "4c09e8ad",
   "metadata": {},
   "outputs": [
    {
     "data": {
      "text/plain": [
       "array(['Office Supplies', 'Furniture', 'Technology'], dtype=object)"
      ]
     },
     "execution_count": 15,
     "metadata": {},
     "output_type": "execute_result"
    }
   ],
   "source": [
    "ec.category_name.unique()"
   ]
  },
  {
   "cell_type": "code",
   "execution_count": 16,
   "id": "79fa75b0",
   "metadata": {},
   "outputs": [
    {
     "data": {
      "text/plain": [
       "Office Supplies    68111\n",
       "Furniture          24443\n",
       "Technology         20716\n",
       "Name: category_name, dtype: int64"
      ]
     },
     "execution_count": 16,
     "metadata": {},
     "output_type": "execute_result"
    }
   ],
   "source": [
    "ec.category_name.value_counts()"
   ]
  },
  {
   "cell_type": "code",
   "execution_count": 17,
   "id": "79a02692",
   "metadata": {},
   "outputs": [
    {
     "data": {
      "text/plain": [
       "<AxesSubplot:xlabel='category_name', ylabel='count'>"
      ]
     },
     "execution_count": 17,
     "metadata": {},
     "output_type": "execute_result"
    },
    {
     "data": {
      "image/png": "[encoded data removed]",
      "text/plain": [
       "<Figure size 432x288 with 1 Axes>"
      ]
     },
     "metadata": {
      "needs_background": "light"
     },
     "output_type": "display_data"
    }
   ],
   "source": [
    "sns.countplot(data = ec,x='category_name')"
   ]
  },
  {
   "cell_type": "markdown",
   "id": "74ab9dbc",
   "metadata": {},
   "source": [
    "Here we can see that most of the orders came from Office supplies category compared to Furniture and Technology."
   ]
  },
  {
   "cell_type": "code",
   "execution_count": 18,
   "id": "9a29733e",
   "metadata": {},
   "outputs": [
    {
     "data": {
      "text/plain": [
       "Consumer       58714\n",
       "Corporate      34322\n",
       "Home Office    20234\n",
       "Name: customer_segment, dtype: int64"
      ]
     },
     "execution_count": 18,
     "metadata": {},
     "output_type": "execute_result"
    }
   ],
   "source": [
    "ec.customer_segment.value_counts()"
   ]
  },
  {
   "cell_type": "code",
   "execution_count": 19,
   "id": "1346627c",
   "metadata": {},
   "outputs": [
    {
     "data": {
      "text/plain": [
       "<AxesSubplot:xlabel='customer_segment', ylabel='count'>"
      ]
     },
     "execution_count": 19,
     "metadata": {},
     "output_type": "execute_result"
    },
    {
     "data": {
      "image/png": "[encoded data removed]",
      "text/plain": [
       "<Figure size 432x288 with 1 Axes>"
      ]
     },
     "metadata": {
      "needs_background": "light"
     },
     "output_type": "display_data"
    }
   ],
   "source": [
    "sns.countplot(data = ec,x='customer_segment')"
   ]
  },
  {
   "cell_type": "code",
   "execution_count": 20,
   "id": "4ccee6b9",
   "metadata": {},
   "outputs": [
    {
     "data": {
      "text/plain": [
       "Text(0.5, 0, 'Profit')"
      ]
     },
     "execution_count": 20,
     "metadata": {},
     "output_type": "execute_result"
    },
    {
     "data": {
      "image/png": "[encoded data removed]",
      "text/plain": [
       "<Figure size 1440x504 with 2 Axes>"
      ]
     },
     "metadata": {
      "needs_background": "light"
     },
     "output_type": "display_data"
    }
   ],
   "source": [
    "plt.figure(figsize=(20,7))\n",
    "\n",
    "           \n",
    "plt.subplot(1,2,1)\n",
    "plt.hist(data = ec,x = 'sales_per_order')\n",
    "plt.title('Sales Distribution')\n",
    "plt.xlabel('Sales')\n",
    "\n",
    "plt.subplot(1,2,2)\n",
    "plt.hist(data = ec,x = 'profit_per_order')\n",
    "plt.title('Profit Distribution')\n",
    "plt.xlabel('Profit')"
   ]
  },
  {
   "cell_type": "markdown",
   "id": "bd1c4442",
   "metadata": {},
   "source": [
    "Distribution of Sales and Profit. Sales is left skewed and Profit seems to be normally distributed."
   ]
  },
  {
   "cell_type": "code",
   "execution_count": 21,
   "id": "9f51a45a",
   "metadata": {},
   "outputs": [
    {
     "data": {
      "text/plain": [
       "Text(0.5, 0, 'Discount')"
      ]
     },
     "execution_count": 21,
     "metadata": {},
     "output_type": "execute_result"
    },
    {
     "data": {
      "image/png": "[encoded data removed]",
      "text/plain": [
       "<Figure size 432x288 with 1 Axes>"
      ]
     },
     "metadata": {
      "needs_background": "light"
     },
     "output_type": "display_data"
    }
   ],
   "source": [
    "plt.hist(data = ec,x = 'order_item_discount')\n",
    "plt.title('Discount Distribution')\n",
    "plt.xlabel('Discount')"
   ]
  },
  {
   "cell_type": "markdown",
   "id": "9733632b",
   "metadata": {},
   "source": [
    "Distribution of discount is left skewed."
   ]
  },
  {
   "cell_type": "code",
   "execution_count": 22,
   "id": "56d74f7b",
   "metadata": {},
   "outputs": [
    {
     "data": {
      "text/plain": [
       "<AxesSubplot:xlabel='profit_per_order'>"
      ]
     },
     "execution_count": 22,
     "metadata": {},
     "output_type": "execute_result"
    },
    {
     "data": {
      "image/png": "[encoded data removed]",
      "text/plain": [
       "<Figure size 1440x504 with 2 Axes>"
      ]
     },
     "metadata": {
      "needs_background": "light"
     },
     "output_type": "display_data"
    }
   ],
   "source": [
    "plt.figure(figsize=(20,7))\n",
    "           \n",
    "plt.subplot(1,2,1)\n",
    "sns.boxplot(data = ec,x = 'sales_per_order')\n",
    "\n",
    "plt.subplot(1,2,2)\n",
    "sns.boxplot(data = ec,x = 'profit_per_order')"
   ]
  },
  {
   "cell_type": "code",
   "execution_count": 23,
   "id": "d13c7bb7",
   "metadata": {},
   "outputs": [
    {
     "data": {
      "text/plain": [
       "<AxesSubplot:xlabel='order_quantity'>"
      ]
     },
     "execution_count": 23,
     "metadata": {},
     "output_type": "execute_result"
    },
    {
     "data": {
      "image/png": "[encoded data removed]",
      "text/plain": [
       "<Figure size 432x288 with 1 Axes>"
      ]
     },
     "metadata": {
      "needs_background": "light"
     },
     "output_type": "display_data"
    }
   ],
   "source": [
    "sns.boxplot(data = ec,x = 'order_quantity')"
   ]
  },
  {
   "cell_type": "code",
   "execution_count": 24,
   "id": "801a20b8",
   "metadata": {},
   "outputs": [
    {
     "data": {
      "text/html": [
       "<div>\n",
       "<style scoped>\n",
       "    .dataframe tbody tr th:only-of-type {\n",
       "        vertical-align: middle;\n",
       "    }\n",
       "\n",
       "    .dataframe tbody tr th {\n",
       "        vertical-align: top;\n",
       "    }\n",
       "\n",
       "    .dataframe thead th {\n",
       "        text-align: right;\n",
       "    }\n",
       "</style>\n",
       "<table border=\"1\" class=\"dataframe\">\n",
       "  <thead>\n",
       "    <tr style=\"text-align: right;\">\n",
       "      <th></th>\n",
       "      <th>days_for_shipment_scheduled</th>\n",
       "      <th>days_for_shipment_real</th>\n",
       "      <th>order_item_discount</th>\n",
       "      <th>sales_per_order</th>\n",
       "      <th>order_quantity</th>\n",
       "      <th>profit_per_order</th>\n",
       "    </tr>\n",
       "  </thead>\n",
       "  <tbody>\n",
       "    <tr>\n",
       "      <th>days_for_shipment_scheduled</th>\n",
       "      <td>1.000000</td>\n",
       "      <td>0.504618</td>\n",
       "      <td>0.007090</td>\n",
       "      <td>0.003616</td>\n",
       "      <td>0.034208</td>\n",
       "      <td>0.001725</td>\n",
       "    </tr>\n",
       "    <tr>\n",
       "      <th>days_for_shipment_real</th>\n",
       "      <td>0.504618</td>\n",
       "      <td>1.000000</td>\n",
       "      <td>0.000456</td>\n",
       "      <td>0.008664</td>\n",
       "      <td>-0.029068</td>\n",
       "      <td>-0.002881</td>\n",
       "    </tr>\n",
       "    <tr>\n",
       "      <th>order_item_discount</th>\n",
       "      <td>0.007090</td>\n",
       "      <td>0.000456</td>\n",
       "      <td>1.000000</td>\n",
       "      <td>0.610083</td>\n",
       "      <td>0.065680</td>\n",
       "      <td>0.086943</td>\n",
       "    </tr>\n",
       "    <tr>\n",
       "      <th>sales_per_order</th>\n",
       "      <td>0.003616</td>\n",
       "      <td>0.008664</td>\n",
       "      <td>0.610083</td>\n",
       "      <td>1.000000</td>\n",
       "      <td>0.107126</td>\n",
       "      <td>0.167815</td>\n",
       "    </tr>\n",
       "    <tr>\n",
       "      <th>order_quantity</th>\n",
       "      <td>0.034208</td>\n",
       "      <td>-0.029068</td>\n",
       "      <td>0.065680</td>\n",
       "      <td>0.107126</td>\n",
       "      <td>1.000000</td>\n",
       "      <td>0.019062</td>\n",
       "    </tr>\n",
       "    <tr>\n",
       "      <th>profit_per_order</th>\n",
       "      <td>0.001725</td>\n",
       "      <td>-0.002881</td>\n",
       "      <td>0.086943</td>\n",
       "      <td>0.167815</td>\n",
       "      <td>0.019062</td>\n",
       "      <td>1.000000</td>\n",
       "    </tr>\n",
       "  </tbody>\n",
       "</table>\n",
       "</div>"
      ],
      "text/plain": [
       "                             days_for_shipment_scheduled  \\\n",
       "days_for_shipment_scheduled                     1.000000   \n",
       "days_for_shipment_real                          0.504618   \n",
       "order_item_discount                             0.007090   \n",
       "sales_per_order                                 0.003616   \n",
       "order_quantity                                  0.034208   \n",
       "profit_per_order                                0.001725   \n",
       "\n",
       "                             days_for_shipment_real  order_item_discount  \\\n",
       "days_for_shipment_scheduled                0.504618             0.007090   \n",
       "days_for_shipment_real                     1.000000             0.000456   \n",
       "order_item_discount                        0.000456             1.000000   \n",
       "sales_per_order                            0.008664             0.610083   \n",
       "order_quantity                            -0.029068             0.065680   \n",
       "profit_per_order                          -0.002881             0.086943   \n",
       "\n",
       "                             sales_per_order  order_quantity  profit_per_order  \n",
       "days_for_shipment_scheduled         0.003616        0.034208          0.001725  \n",
       "days_for_shipment_real              0.008664       -0.029068         -0.002881  \n",
       "order_item_discount                 0.610083        0.065680          0.086943  \n",
       "sales_per_order                     1.000000        0.107126          0.167815  \n",
       "order_quantity                      0.107126        1.000000          0.019062  \n",
       "profit_per_order                    0.167815        0.019062          1.000000  "
      ]
     },
     "execution_count": 24,
     "metadata": {},
     "output_type": "execute_result"
    }
   ],
   "source": [
    "ec.corr()"
   ]
  },
  {
   "cell_type": "code",
   "execution_count": 25,
   "id": "2edc0ff3",
   "metadata": {},
   "outputs": [
    {
     "data": {
      "image/png": "[encoded data removed]",
      "text/plain": [
       "<Figure size 432x288 with 2 Axes>"
      ]
     },
     "metadata": {
      "needs_background": "light"
     },
     "output_type": "display_data"
    }
   ],
   "source": [
    "sns.heatmap(ec.corr(),annot = True)\n",
    "plt.show()"
   ]
  },
  {
   "cell_type": "markdown",
   "id": "9d4f4638",
   "metadata": {},
   "source": [
    "From the Heatmap we can observe that both sales per order and order item discount are highly correlated compared to others.\n",
    "From this we can conclude that increase in discount rates might increase in Sales."
   ]
  },
  {
   "cell_type": "code",
   "execution_count": 26,
   "id": "ad610bc5",
   "metadata": {},
   "outputs": [
    {
     "data": {
      "text/plain": [
       "<AxesSubplot:xlabel='order_item_discount', ylabel='sales_per_order'>"
      ]
     },
     "execution_count": 26,
     "metadata": {},
     "output_type": "execute_result"
    },
    {
     "data": {
      "image/png": "[encoded data removed]",
      "text/plain": [
       "<Figure size 432x288 with 1 Axes>"
      ]
     },
     "metadata": {
      "needs_background": "light"
     },
     "output_type": "display_data"
    }
   ],
   "source": [
    "sns.regplot(data=ec,x='order_item_discount',y='sales_per_order')"
   ]
  },
  {
   "cell_type": "markdown",
   "id": "8d22079a",
   "metadata": {},
   "source": [
    "**1) Find YTD sales performance by each state.**"
   ]
  },
  {
   "cell_type": "code",
   "execution_count": 27,
   "id": "45c52182",
   "metadata": {},
   "outputs": [],
   "source": [
    "Sales_by_state = ec.groupby([\"customer_state\"])[[\"sales_per_order\"]].sum()"
   ]
  },
  {
   "cell_type": "code",
   "execution_count": 28,
   "id": "fa61f846",
   "metadata": {},
   "outputs": [],
   "source": [
    "pd.set_option('display.float_format', lambda x: '%.3f' % x)"
   ]
  },
  {
   "cell_type": "markdown",
   "id": "e3ba98cc",
   "metadata": {},
   "source": [
    "Used this code because we were getting values in exponential form."
   ]
  },
  {
   "cell_type": "code",
   "execution_count": 29,
   "id": "35ddeb56",
   "metadata": {
    "scrolled": false
   },
   "outputs": [
    {
     "data": {
      "text/html": [
       "<div>\n",
       "<style scoped>\n",
       "    .dataframe tbody tr th:only-of-type {\n",
       "        vertical-align: middle;\n",
       "    }\n",
       "\n",
       "    .dataframe tbody tr th {\n",
       "        vertical-align: top;\n",
       "    }\n",
       "\n",
       "    .dataframe thead th {\n",
       "        text-align: right;\n",
       "    }\n",
       "</style>\n",
       "<table border=\"1\" class=\"dataframe\">\n",
       "  <thead>\n",
       "    <tr style=\"text-align: right;\">\n",
       "      <th></th>\n",
       "      <th>sales_per_order</th>\n",
       "    </tr>\n",
       "    <tr>\n",
       "      <th>customer_state</th>\n",
       "      <th></th>\n",
       "    </tr>\n",
       "  </thead>\n",
       "  <tbody>\n",
       "    <tr>\n",
       "      <th>Alabama</th>\n",
       "      <td>139861.297</td>\n",
       "    </tr>\n",
       "    <tr>\n",
       "      <th>Arizona</th>\n",
       "      <td>517880.312</td>\n",
       "    </tr>\n",
       "    <tr>\n",
       "      <th>Arkansas</th>\n",
       "      <td>141568.551</td>\n",
       "    </tr>\n",
       "    <tr>\n",
       "      <th>California</th>\n",
       "      <td>4652153.659</td>\n",
       "    </tr>\n",
       "    <tr>\n",
       "      <th>Colorado</th>\n",
       "      <td>407763.201</td>\n",
       "    </tr>\n",
       "    <tr>\n",
       "      <th>Connecticut</th>\n",
       "      <td>186463.357</td>\n",
       "    </tr>\n",
       "    <tr>\n",
       "      <th>Delaware</th>\n",
       "      <td>227430.614</td>\n",
       "    </tr>\n",
       "    <tr>\n",
       "      <th>District of Columbia</th>\n",
       "      <td>27911.596</td>\n",
       "    </tr>\n",
       "    <tr>\n",
       "      <th>Florida</th>\n",
       "      <td>890342.540</td>\n",
       "    </tr>\n",
       "    <tr>\n",
       "      <th>Georgia</th>\n",
       "      <td>420618.800</td>\n",
       "    </tr>\n",
       "    <tr>\n",
       "      <th>Idaho</th>\n",
       "      <td>50660.817</td>\n",
       "    </tr>\n",
       "    <tr>\n",
       "      <th>Illinois</th>\n",
       "      <td>1142388.619</td>\n",
       "    </tr>\n",
       "    <tr>\n",
       "      <th>Indiana</th>\n",
       "      <td>335537.160</td>\n",
       "    </tr>\n",
       "    <tr>\n",
       "      <th>Iowa</th>\n",
       "      <td>68233.987</td>\n",
       "    </tr>\n",
       "    <tr>\n",
       "      <th>Kansas</th>\n",
       "      <td>60883.871</td>\n",
       "    </tr>\n",
       "    <tr>\n",
       "      <th>Kentucky</th>\n",
       "      <td>312282.862</td>\n",
       "    </tr>\n",
       "    <tr>\n",
       "      <th>Louisiana</th>\n",
       "      <td>93119.878</td>\n",
       "    </tr>\n",
       "    <tr>\n",
       "      <th>Maine</th>\n",
       "      <td>19754.898</td>\n",
       "    </tr>\n",
       "    <tr>\n",
       "      <th>Maryland</th>\n",
       "      <td>250932.750</td>\n",
       "    </tr>\n",
       "    <tr>\n",
       "      <th>Massachusetts</th>\n",
       "      <td>319063.650</td>\n",
       "    </tr>\n",
       "    <tr>\n",
       "      <th>Michigan</th>\n",
       "      <td>588013.779</td>\n",
       "    </tr>\n",
       "    <tr>\n",
       "      <th>Minnesota</th>\n",
       "      <td>212880.892</td>\n",
       "    </tr>\n",
       "    <tr>\n",
       "      <th>Mississippi</th>\n",
       "      <td>124308.680</td>\n",
       "    </tr>\n",
       "    <tr>\n",
       "      <th>Missouri</th>\n",
       "      <td>153548.759</td>\n",
       "    </tr>\n",
       "    <tr>\n",
       "      <th>Montana</th>\n",
       "      <td>38082.719</td>\n",
       "    </tr>\n",
       "    <tr>\n",
       "      <th>Nebraska</th>\n",
       "      <td>83335.800</td>\n",
       "    </tr>\n",
       "    <tr>\n",
       "      <th>Nevada</th>\n",
       "      <td>95264.350</td>\n",
       "    </tr>\n",
       "    <tr>\n",
       "      <th>New Hampshire</th>\n",
       "      <td>61099.465</td>\n",
       "    </tr>\n",
       "    <tr>\n",
       "      <th>New Jersey</th>\n",
       "      <td>300487.978</td>\n",
       "    </tr>\n",
       "    <tr>\n",
       "      <th>New Mexico</th>\n",
       "      <td>83231.281</td>\n",
       "    </tr>\n",
       "    <tr>\n",
       "      <th>New York</th>\n",
       "      <td>2588064.529</td>\n",
       "    </tr>\n",
       "    <tr>\n",
       "      <th>North Carolina</th>\n",
       "      <td>585539.065</td>\n",
       "    </tr>\n",
       "    <tr>\n",
       "      <th>North Dakota</th>\n",
       "      <td>16081.020</td>\n",
       "    </tr>\n",
       "    <tr>\n",
       "      <th>Ohio</th>\n",
       "      <td>1089066.087</td>\n",
       "    </tr>\n",
       "    <tr>\n",
       "      <th>Oklahoma</th>\n",
       "      <td>155791.485</td>\n",
       "    </tr>\n",
       "    <tr>\n",
       "      <th>Oregon</th>\n",
       "      <td>289009.879</td>\n",
       "    </tr>\n",
       "    <tr>\n",
       "      <th>Pennsylvania</th>\n",
       "      <td>1361662.611</td>\n",
       "    </tr>\n",
       "    <tr>\n",
       "      <th>Rhode Island</th>\n",
       "      <td>127709.513</td>\n",
       "    </tr>\n",
       "    <tr>\n",
       "      <th>South Carolina</th>\n",
       "      <td>97681.848</td>\n",
       "    </tr>\n",
       "    <tr>\n",
       "      <th>South Dakota</th>\n",
       "      <td>23115.881</td>\n",
       "    </tr>\n",
       "    <tr>\n",
       "      <th>Tennessee</th>\n",
       "      <td>423586.528</td>\n",
       "    </tr>\n",
       "    <tr>\n",
       "      <th>Texas</th>\n",
       "      <td>2309429.992</td>\n",
       "    </tr>\n",
       "    <tr>\n",
       "      <th>Utah</th>\n",
       "      <td>125369.488</td>\n",
       "    </tr>\n",
       "    <tr>\n",
       "      <th>Vermont</th>\n",
       "      <td>24201.238</td>\n",
       "    </tr>\n",
       "    <tr>\n",
       "      <th>Virginia</th>\n",
       "      <td>526655.664</td>\n",
       "    </tr>\n",
       "    <tr>\n",
       "      <th>Washington</th>\n",
       "      <td>1158349.123</td>\n",
       "    </tr>\n",
       "    <tr>\n",
       "      <th>West Virginia</th>\n",
       "      <td>9129.180</td>\n",
       "    </tr>\n",
       "    <tr>\n",
       "      <th>Wisconsin</th>\n",
       "      <td>245653.862</td>\n",
       "    </tr>\n",
       "    <tr>\n",
       "      <th>Wyoming</th>\n",
       "      <td>2459.450</td>\n",
       "    </tr>\n",
       "  </tbody>\n",
       "</table>\n",
       "</div>"
      ],
      "text/plain": [
       "                      sales_per_order\n",
       "customer_state                       \n",
       "Alabama                    139861.297\n",
       "Arizona                    517880.312\n",
       "Arkansas                   141568.551\n",
       "California                4652153.659\n",
       "Colorado                   407763.201\n",
       "Connecticut                186463.357\n",
       "Delaware                   227430.614\n",
       "District of Columbia        27911.596\n",
       "Florida                    890342.540\n",
       "Georgia                    420618.800\n",
       "Idaho                       50660.817\n",
       "Illinois                  1142388.619\n",
       "Indiana                    335537.160\n",
       "Iowa                        68233.987\n",
       "Kansas                      60883.871\n",
       "Kentucky                   312282.862\n",
       "Louisiana                   93119.878\n",
       "Maine                       19754.898\n",
       "Maryland                   250932.750\n",
       "Massachusetts              319063.650\n",
       "Michigan                   588013.779\n",
       "Minnesota                  212880.892\n",
       "Mississippi                124308.680\n",
       "Missouri                   153548.759\n",
       "Montana                     38082.719\n",
       "Nebraska                    83335.800\n",
       "Nevada                      95264.350\n",
       "New Hampshire               61099.465\n",
       "New Jersey                 300487.978\n",
       "New Mexico                  83231.281\n",
       "New York                  2588064.529\n",
       "North Carolina             585539.065\n",
       "North Dakota                16081.020\n",
       "Ohio                      1089066.087\n",
       "Oklahoma                   155791.485\n",
       "Oregon                     289009.879\n",
       "Pennsylvania              1361662.611\n",
       "Rhode Island               127709.513\n",
       "South Carolina              97681.848\n",
       "South Dakota                23115.881\n",
       "Tennessee                  423586.528\n",
       "Texas                     2309429.992\n",
       "Utah                       125369.488\n",
       "Vermont                     24201.238\n",
       "Virginia                   526655.664\n",
       "Washington                1158349.123\n",
       "West Virginia                9129.180\n",
       "Wisconsin                  245653.862\n",
       "Wyoming                      2459.450"
      ]
     },
     "execution_count": 29,
     "metadata": {},
     "output_type": "execute_result"
    }
   ],
   "source": [
    "Sales_by_state"
   ]
  },
  {
   "cell_type": "code",
   "execution_count": 30,
   "id": "6a4f4dfb",
   "metadata": {},
   "outputs": [
    {
     "data": {
      "image/png": "[encoded data removed]",
      "text/plain": [
       "<Figure size 1440x504 with 1 Axes>"
      ]
     },
     "metadata": {
      "needs_background": "light"
     },
     "output_type": "display_data"
    }
   ],
   "source": [
    "Sales_by_state.plot(kind='bar',figsize=(20,7))\n",
    "plt.xlabel('States')\n",
    "plt.ylabel('Sales')\n",
    "plt.title('Sales by States')\n",
    "plt.show()"
   ]
  },
  {
   "cell_type": "code",
   "execution_count": 31,
   "id": "b660178d",
   "metadata": {
    "scrolled": true
   },
   "outputs": [],
   "source": [
    "Sales_by_state.sort_values(by = ['sales_per_order'],ascending = False, inplace = True)"
   ]
  },
  {
   "cell_type": "code",
   "execution_count": 32,
   "id": "fc258af3",
   "metadata": {
    "scrolled": true
   },
   "outputs": [],
   "source": [
    "Top_5_sales_by_state = Sales_by_state.head()"
   ]
  },
  {
   "cell_type": "code",
   "execution_count": 33,
   "id": "8c7d9792",
   "metadata": {},
   "outputs": [
    {
     "data": {
      "text/html": [
       "<div>\n",
       "<style scoped>\n",
       "    .dataframe tbody tr th:only-of-type {\n",
       "        vertical-align: middle;\n",
       "    }\n",
       "\n",
       "    .dataframe tbody tr th {\n",
       "        vertical-align: top;\n",
       "    }\n",
       "\n",
       "    .dataframe thead th {\n",
       "        text-align: right;\n",
       "    }\n",
       "</style>\n",
       "<table border=\"1\" class=\"dataframe\">\n",
       "  <thead>\n",
       "    <tr style=\"text-align: right;\">\n",
       "      <th></th>\n",
       "      <th>sales_per_order</th>\n",
       "    </tr>\n",
       "    <tr>\n",
       "      <th>customer_state</th>\n",
       "      <th></th>\n",
       "    </tr>\n",
       "  </thead>\n",
       "  <tbody>\n",
       "    <tr>\n",
       "      <th>California</th>\n",
       "      <td>4652153.659</td>\n",
       "    </tr>\n",
       "    <tr>\n",
       "      <th>New York</th>\n",
       "      <td>2588064.529</td>\n",
       "    </tr>\n",
       "    <tr>\n",
       "      <th>Texas</th>\n",
       "      <td>2309429.992</td>\n",
       "    </tr>\n",
       "    <tr>\n",
       "      <th>Pennsylvania</th>\n",
       "      <td>1361662.611</td>\n",
       "    </tr>\n",
       "    <tr>\n",
       "      <th>Washington</th>\n",
       "      <td>1158349.123</td>\n",
       "    </tr>\n",
       "  </tbody>\n",
       "</table>\n",
       "</div>"
      ],
      "text/plain": [
       "                sales_per_order\n",
       "customer_state                 \n",
       "California          4652153.659\n",
       "New York            2588064.529\n",
       "Texas               2309429.992\n",
       "Pennsylvania        1361662.611\n",
       "Washington          1158349.123"
      ]
     },
     "execution_count": 33,
     "metadata": {},
     "output_type": "execute_result"
    }
   ],
   "source": [
    "Top_5_sales_by_state"
   ]
  },
  {
   "cell_type": "markdown",
   "id": "22dddbbc",
   "metadata": {},
   "source": [
    "Here we can observe that top 5 Sales by States. And California state is top among the list with 4.6 Million."
   ]
  },
  {
   "cell_type": "code",
   "execution_count": 34,
   "id": "986b29dc",
   "metadata": {},
   "outputs": [
    {
     "data": {
      "image/png": "[encoded data removed]",
      "text/plain": [
       "<Figure size 1440x504 with 1 Axes>"
      ]
     },
     "metadata": {
      "needs_background": "light"
     },
     "output_type": "display_data"
    }
   ],
   "source": [
    "Top_5_sales_by_state.plot(kind='bar',figsize=(20,7))\n",
    "plt.xlabel('States')\n",
    "plt.ylabel('Sales')\n",
    "plt.title('Top 5 Sales by States')\n",
    "Top_5_sales_by_state = plt.gca().get_yticks()\n",
    "plt.gca().set_yticklabels(['{:,.0f}'.format(x) for x in Top_5_sales_by_state])\n",
    "plt.show()"
   ]
  },
  {
   "cell_type": "code",
   "execution_count": 35,
   "id": "c9f899f0",
   "metadata": {},
   "outputs": [],
   "source": [
    "Bottom_5_sales_by_states = Sales_by_state.tail()"
   ]
  },
  {
   "cell_type": "code",
   "execution_count": 36,
   "id": "df8369e7",
   "metadata": {},
   "outputs": [
    {
     "data": {
      "text/html": [
       "<div>\n",
       "<style scoped>\n",
       "    .dataframe tbody tr th:only-of-type {\n",
       "        vertical-align: middle;\n",
       "    }\n",
       "\n",
       "    .dataframe tbody tr th {\n",
       "        vertical-align: top;\n",
       "    }\n",
       "\n",
       "    .dataframe thead th {\n",
       "        text-align: right;\n",
       "    }\n",
       "</style>\n",
       "<table border=\"1\" class=\"dataframe\">\n",
       "  <thead>\n",
       "    <tr style=\"text-align: right;\">\n",
       "      <th></th>\n",
       "      <th>sales_per_order</th>\n",
       "    </tr>\n",
       "    <tr>\n",
       "      <th>customer_state</th>\n",
       "      <th></th>\n",
       "    </tr>\n",
       "  </thead>\n",
       "  <tbody>\n",
       "    <tr>\n",
       "      <th>South Dakota</th>\n",
       "      <td>23115.881</td>\n",
       "    </tr>\n",
       "    <tr>\n",
       "      <th>Maine</th>\n",
       "      <td>19754.898</td>\n",
       "    </tr>\n",
       "    <tr>\n",
       "      <th>North Dakota</th>\n",
       "      <td>16081.020</td>\n",
       "    </tr>\n",
       "    <tr>\n",
       "      <th>West Virginia</th>\n",
       "      <td>9129.180</td>\n",
       "    </tr>\n",
       "    <tr>\n",
       "      <th>Wyoming</th>\n",
       "      <td>2459.450</td>\n",
       "    </tr>\n",
       "  </tbody>\n",
       "</table>\n",
       "</div>"
      ],
      "text/plain": [
       "                sales_per_order\n",
       "customer_state                 \n",
       "South Dakota          23115.881\n",
       "Maine                 19754.898\n",
       "North Dakota          16081.020\n",
       "West Virginia          9129.180\n",
       "Wyoming                2459.450"
      ]
     },
     "execution_count": 36,
     "metadata": {},
     "output_type": "execute_result"
    }
   ],
   "source": [
    "Bottom_5_sales_by_states"
   ]
  },
  {
   "cell_type": "markdown",
   "id": "b780c2a0",
   "metadata": {},
   "source": [
    "Here we can observe the bottom 5 Sales by States."
   ]
  },
  {
   "cell_type": "code",
   "execution_count": 37,
   "id": "9b8f2a9a",
   "metadata": {},
   "outputs": [
    {
     "data": {
      "image/png": "[encoded data removed]",
      "text/plain": [
       "<Figure size 1440x504 with 1 Axes>"
      ]
     },
     "metadata": {
      "needs_background": "light"
     },
     "output_type": "display_data"
    }
   ],
   "source": [
    "Bottom_5_sales_by_states.plot(kind='bar',figsize=(20,7))\n",
    "plt.xlabel('States')\n",
    "plt.ylabel('Sales')\n",
    "plt.title('Bottom 5 Sales by States')\n",
    "Bottom_5_sales_by_state = plt.gca().get_yticks()\n",
    "plt.gca().set_yticklabels(['{:,.0f}'.format(x) for x in Bottom_5_sales_by_state])\n",
    "plt.show()"
   ]
  },
  {
   "cell_type": "markdown",
   "id": "20bb4ac3",
   "metadata": {},
   "source": [
    "**2)Top 5 and bottom 5 products by sales.**"
   ]
  },
  {
   "cell_type": "code",
   "execution_count": 38,
   "id": "5027b4ee",
   "metadata": {},
   "outputs": [
    {
     "data": {
      "text/plain": [
       "array(['Xerox 1913', '#6 3/4 Gummed Flap White Envelopes',\n",
       "       'Belkin 8 Outlet Surge Protector', ...,\n",
       "       'Eldon File Chest Portable File',\n",
       "       'Avery Hi-Liter Pen Style Six-Color Fluorescent Set',\n",
       "       'Lexmark X 9575 Professional All-in-One Color Printer'],\n",
       "      dtype=object)"
      ]
     },
     "execution_count": 38,
     "metadata": {},
     "output_type": "execute_result"
    }
   ],
   "source": [
    "ec.product_name.unique()"
   ]
  },
  {
   "cell_type": "code",
   "execution_count": 39,
   "id": "f3978334",
   "metadata": {},
   "outputs": [
    {
     "data": {
      "text/plain": [
       "1849"
      ]
     },
     "execution_count": 39,
     "metadata": {},
     "output_type": "execute_result"
    }
   ],
   "source": [
    "len(ec['product_name'].unique())"
   ]
  },
  {
   "cell_type": "code",
   "execution_count": 40,
   "id": "02c830fc",
   "metadata": {},
   "outputs": [],
   "source": [
    "Sales_by_products = ec.groupby([\"product_name\"])[[\"sales_per_order\"]].sum()"
   ]
  },
  {
   "cell_type": "code",
   "execution_count": 41,
   "id": "840ab0fa",
   "metadata": {},
   "outputs": [
    {
     "data": {
      "text/html": [
       "<div>\n",
       "<style scoped>\n",
       "    .dataframe tbody tr th:only-of-type {\n",
       "        vertical-align: middle;\n",
       "    }\n",
       "\n",
       "    .dataframe tbody tr th {\n",
       "        vertical-align: top;\n",
       "    }\n",
       "\n",
       "    .dataframe thead th {\n",
       "        text-align: right;\n",
       "    }\n",
       "</style>\n",
       "<table border=\"1\" class=\"dataframe\">\n",
       "  <thead>\n",
       "    <tr style=\"text-align: right;\">\n",
       "      <th></th>\n",
       "      <th>sales_per_order</th>\n",
       "    </tr>\n",
       "    <tr>\n",
       "      <th>product_name</th>\n",
       "      <th></th>\n",
       "    </tr>\n",
       "  </thead>\n",
       "  <tbody>\n",
       "    <tr>\n",
       "      <th>\"While you Were Out\" Message Book, One Form per Page</th>\n",
       "      <td>5517.380</td>\n",
       "    </tr>\n",
       "    <tr>\n",
       "      <th>#10 Gummed Flap White Envelopes, 100/Box</th>\n",
       "      <td>8723.160</td>\n",
       "    </tr>\n",
       "    <tr>\n",
       "      <th>#10 Self-Seal White Envelopes</th>\n",
       "      <td>9035.920</td>\n",
       "    </tr>\n",
       "    <tr>\n",
       "      <th>#10 White Business Envelopes,4 1/8 x 9 1/2</th>\n",
       "      <td>16265.380</td>\n",
       "    </tr>\n",
       "    <tr>\n",
       "      <th>#10- 4 1/8\" x 9 1/2\" Recycled Envelopes</th>\n",
       "      <td>23495.580</td>\n",
       "    </tr>\n",
       "    <tr>\n",
       "      <th>#10- 4 1/8\" x 9 1/2\" Security-Tint Envelopes</th>\n",
       "      <td>18091.630</td>\n",
       "    </tr>\n",
       "    <tr>\n",
       "      <th>#10-4 1/8\" x 9 1/2\" Premium Diagonal Seam Envelopes</th>\n",
       "      <td>3742.150</td>\n",
       "    </tr>\n",
       "    <tr>\n",
       "      <th>#6 3/4 Gummed Flap White Envelopes</th>\n",
       "      <td>9908.910</td>\n",
       "    </tr>\n",
       "    <tr>\n",
       "      <th>1.7 Cubic Foot Compact \"Cube\" Office Refrigerators</th>\n",
       "      <td>16572.380</td>\n",
       "    </tr>\n",
       "    <tr>\n",
       "      <th>1/4 Fold Party Design Invitations &amp; White Envelopes, 24 8-1/2\" X 11\" Cards, 25 Env./Pack</th>\n",
       "      <td>4158.730</td>\n",
       "    </tr>\n",
       "  </tbody>\n",
       "</table>\n",
       "</div>"
      ],
      "text/plain": [
       "                                                    sales_per_order\n",
       "product_name                                                       \n",
       "\"While you Were Out\" Message Book, One Form per...         5517.380\n",
       "#10 Gummed Flap White Envelopes, 100/Box                   8723.160\n",
       "#10 Self-Seal White Envelopes                              9035.920\n",
       "#10 White Business Envelopes,4 1/8 x 9 1/2                16265.380\n",
       "#10- 4 1/8\" x 9 1/2\" Recycled Envelopes                   23495.580\n",
       "#10- 4 1/8\" x 9 1/2\" Security-Tint Envelopes              18091.630\n",
       "#10-4 1/8\" x 9 1/2\" Premium Diagonal Seam Envel...         3742.150\n",
       "#6 3/4 Gummed Flap White Envelopes                         9908.910\n",
       "1.7 Cubic Foot Compact \"Cube\" Office Refrigerators        16572.380\n",
       "1/4 Fold Party Design Invitations & White Envel...         4158.730"
      ]
     },
     "execution_count": 41,
     "metadata": {},
     "output_type": "execute_result"
    }
   ],
   "source": [
    "Sales_by_products.head(10)"
   ]
  },
  {
   "cell_type": "code",
   "execution_count": 42,
   "id": "d1093afa",
   "metadata": {},
   "outputs": [],
   "source": [
    "Sales_by_products.sort_values(by = ['sales_per_order'],ascending = False, inplace = True)"
   ]
  },
  {
   "cell_type": "code",
   "execution_count": 43,
   "id": "c640ec9c",
   "metadata": {},
   "outputs": [],
   "source": [
    "Top_10_sales_by_products = Sales_by_products.head(10)"
   ]
  },
  {
   "cell_type": "code",
   "execution_count": 44,
   "id": "17676711",
   "metadata": {},
   "outputs": [
    {
     "data": {
      "text/html": [
       "<div>\n",
       "<style scoped>\n",
       "    .dataframe tbody tr th:only-of-type {\n",
       "        vertical-align: middle;\n",
       "    }\n",
       "\n",
       "    .dataframe tbody tr th {\n",
       "        vertical-align: top;\n",
       "    }\n",
       "\n",
       "    .dataframe thead th {\n",
       "        text-align: right;\n",
       "    }\n",
       "</style>\n",
       "<table border=\"1\" class=\"dataframe\">\n",
       "  <thead>\n",
       "    <tr style=\"text-align: right;\">\n",
       "      <th></th>\n",
       "      <th>sales_per_order</th>\n",
       "    </tr>\n",
       "    <tr>\n",
       "      <th>product_name</th>\n",
       "      <th></th>\n",
       "    </tr>\n",
       "  </thead>\n",
       "  <tbody>\n",
       "    <tr>\n",
       "      <th>Staples</th>\n",
       "      <td>113516.286</td>\n",
       "    </tr>\n",
       "    <tr>\n",
       "      <th>Staple envelope</th>\n",
       "      <td>112116.902</td>\n",
       "    </tr>\n",
       "    <tr>\n",
       "      <th>Easy-staple paper</th>\n",
       "      <td>99214.066</td>\n",
       "    </tr>\n",
       "    <tr>\n",
       "      <th>KI Adjustable-Height Table</th>\n",
       "      <td>45882.999</td>\n",
       "    </tr>\n",
       "    <tr>\n",
       "      <th>Avery Non-Stick Binders</th>\n",
       "      <td>45687.199</td>\n",
       "    </tr>\n",
       "    <tr>\n",
       "      <th>Staples in misc. colors</th>\n",
       "      <td>45588.071</td>\n",
       "    </tr>\n",
       "    <tr>\n",
       "      <th>Staple remover</th>\n",
       "      <td>39212.101</td>\n",
       "    </tr>\n",
       "    <tr>\n",
       "      <th>Storex Dura Pro Binders</th>\n",
       "      <td>38114.471</td>\n",
       "    </tr>\n",
       "    <tr>\n",
       "      <th>Staple-based wall hangings</th>\n",
       "      <td>36651.979</td>\n",
       "    </tr>\n",
       "    <tr>\n",
       "      <th>SAFCO Arco Folding Chair</th>\n",
       "      <td>35130.491</td>\n",
       "    </tr>\n",
       "  </tbody>\n",
       "</table>\n",
       "</div>"
      ],
      "text/plain": [
       "                            sales_per_order\n",
       "product_name                               \n",
       "Staples                          113516.286\n",
       "Staple envelope                  112116.902\n",
       "Easy-staple paper                 99214.066\n",
       "KI Adjustable-Height Table        45882.999\n",
       "Avery Non-Stick Binders           45687.199\n",
       "Staples in misc. colors           45588.071\n",
       "Staple remover                    39212.101\n",
       "Storex Dura Pro Binders           38114.471\n",
       "Staple-based wall hangings        36651.979\n",
       "SAFCO Arco Folding Chair          35130.491"
      ]
     },
     "execution_count": 44,
     "metadata": {},
     "output_type": "execute_result"
    }
   ],
   "source": [
    "Top_10_sales_by_products"
   ]
  },
  {
   "cell_type": "code",
   "execution_count": 45,
   "id": "d8b839b8",
   "metadata": {},
   "outputs": [
    {
     "data": {
      "image/png": "[encoded data removed]",
      "text/plain": [
       "<Figure size 1440x504 with 1 Axes>"
      ]
     },
     "metadata": {
      "needs_background": "light"
     },
     "output_type": "display_data"
    }
   ],
   "source": [
    "Top_10_sales_by_products.plot(kind='bar',figsize=(20,7))\n",
    "plt.xlabel('Products')\n",
    "plt.ylabel('Sales')\n",
    "plt.title('Top 10 Sales by Products')\n",
    "Top_10_sales_by_products = plt.gca().get_yticks()\n",
    "plt.gca().set_yticklabels(['{:,.0f}'.format(x) for x in Top_10_sales_by_products])\n",
    "plt.show()"
   ]
  },
  {
   "cell_type": "code",
   "execution_count": 46,
   "id": "b7e4e3fd",
   "metadata": {},
   "outputs": [],
   "source": [
    "Bottom_10_products_by_sales = Sales_by_products.tail(10)"
   ]
  },
  {
   "cell_type": "code",
   "execution_count": 47,
   "id": "2a1b3a8b",
   "metadata": {},
   "outputs": [
    {
     "data": {
      "text/html": [
       "<div>\n",
       "<style scoped>\n",
       "    .dataframe tbody tr th:only-of-type {\n",
       "        vertical-align: middle;\n",
       "    }\n",
       "\n",
       "    .dataframe tbody tr th {\n",
       "        vertical-align: top;\n",
       "    }\n",
       "\n",
       "    .dataframe thead th {\n",
       "        text-align: right;\n",
       "    }\n",
       "</style>\n",
       "<table border=\"1\" class=\"dataframe\">\n",
       "  <thead>\n",
       "    <tr style=\"text-align: right;\">\n",
       "      <th></th>\n",
       "      <th>sales_per_order</th>\n",
       "    </tr>\n",
       "    <tr>\n",
       "      <th>product_name</th>\n",
       "      <th></th>\n",
       "    </tr>\n",
       "  </thead>\n",
       "  <tbody>\n",
       "    <tr>\n",
       "      <th>Zebra GK420t Direct Thermal/Thermal Transfer Printer</th>\n",
       "      <td>1706.130</td>\n",
       "    </tr>\n",
       "    <tr>\n",
       "      <th>Xerox 1932</th>\n",
       "      <td>1691.640</td>\n",
       "    </tr>\n",
       "    <tr>\n",
       "      <th>4009 Highlighters</th>\n",
       "      <td>1681.810</td>\n",
       "    </tr>\n",
       "    <tr>\n",
       "      <th>Nokia Lumia 1020</th>\n",
       "      <td>1651.130</td>\n",
       "    </tr>\n",
       "    <tr>\n",
       "      <th>NeatDesk Desktop Scanner &amp; Digital Filing System</th>\n",
       "      <td>1612.758</td>\n",
       "    </tr>\n",
       "    <tr>\n",
       "      <th>Eldon Jumbo ProFile Portable File Boxes Graphite/Black</th>\n",
       "      <td>1604.760</td>\n",
       "    </tr>\n",
       "    <tr>\n",
       "      <th>Hewlett-Packard Deskjet D4360 Printer</th>\n",
       "      <td>1574.810</td>\n",
       "    </tr>\n",
       "    <tr>\n",
       "      <th>Linden 12\" Wall Clock With Oak Frame</th>\n",
       "      <td>1545.840</td>\n",
       "    </tr>\n",
       "    <tr>\n",
       "      <th>RCA ViSYS 25425RE1 Corded phone</th>\n",
       "      <td>1494.800</td>\n",
       "    </tr>\n",
       "    <tr>\n",
       "      <th>Xerox Blank Computer Paper</th>\n",
       "      <td>1334.850</td>\n",
       "    </tr>\n",
       "  </tbody>\n",
       "</table>\n",
       "</div>"
      ],
      "text/plain": [
       "                                                    sales_per_order\n",
       "product_name                                                       \n",
       "Zebra GK420t Direct Thermal/Thermal Transfer Pr...         1706.130\n",
       "Xerox 1932                                                 1691.640\n",
       "4009 Highlighters                                          1681.810\n",
       "Nokia Lumia 1020                                           1651.130\n",
       "NeatDesk Desktop Scanner & Digital Filing System           1612.758\n",
       "Eldon Jumbo ProFile Portable File Boxes Graphit...         1604.760\n",
       "Hewlett-Packard Deskjet D4360 Printer                      1574.810\n",
       "Linden 12\" Wall Clock With Oak Frame                       1545.840\n",
       "RCA ViSYS 25425RE1 Corded phone                            1494.800\n",
       "Xerox Blank Computer Paper                                 1334.850"
      ]
     },
     "execution_count": 47,
     "metadata": {},
     "output_type": "execute_result"
    }
   ],
   "source": [
    "Bottom_10_products_by_sales"
   ]
  },
  {
   "cell_type": "code",
   "execution_count": 48,
   "id": "7c9d4571",
   "metadata": {},
   "outputs": [
    {
     "data": {
      "image/png": "[encoded data removed]",
      "text/plain": [
       "<Figure size 1440x504 with 1 Axes>"
      ]
     },
     "metadata": {
      "needs_background": "light"
     },
     "output_type": "display_data"
    }
   ],
   "source": [
    "Bottom_10_products_by_sales.plot(kind='bar',figsize=(20,7))\n",
    "plt.xlabel('Products')\n",
    "plt.ylabel('Sales')\n",
    "plt.title('Bottom 10 Products by Sales')\n",
    "Bottom_10_products_by_sales = plt.gca().get_yticks()\n",
    "plt.gca().set_yticklabels(['{:,.0f}'.format(x) for x in Bottom_10_products_by_sales])\n",
    "plt.show()"
   ]
  },
  {
   "cell_type": "markdown",
   "id": "387c3ad1",
   "metadata": {},
   "source": [
    "**3)Sales by Region to know the best and worst performing region all over country.**"
   ]
  },
  {
   "cell_type": "code",
   "execution_count": 49,
   "id": "31d45f27",
   "metadata": {},
   "outputs": [],
   "source": [
    "Sales_by_Region = ec.groupby([\"customer_region\"])[[\"sales_per_order\"]].sum()"
   ]
  },
  {
   "cell_type": "code",
   "execution_count": 50,
   "id": "82d18365",
   "metadata": {},
   "outputs": [
    {
     "data": {
      "text/html": [
       "<div>\n",
       "<style scoped>\n",
       "    .dataframe tbody tr th:only-of-type {\n",
       "        vertical-align: middle;\n",
       "    }\n",
       "\n",
       "    .dataframe tbody tr th {\n",
       "        vertical-align: top;\n",
       "    }\n",
       "\n",
       "    .dataframe thead th {\n",
       "        text-align: right;\n",
       "    }\n",
       "</style>\n",
       "<table border=\"1\" class=\"dataframe\">\n",
       "  <thead>\n",
       "    <tr style=\"text-align: right;\">\n",
       "      <th></th>\n",
       "      <th>sales_per_order</th>\n",
       "    </tr>\n",
       "    <tr>\n",
       "      <th>customer_region</th>\n",
       "      <th></th>\n",
       "    </tr>\n",
       "  </thead>\n",
       "  <tbody>\n",
       "    <tr>\n",
       "      <th>Central</th>\n",
       "      <td>5394895.106</td>\n",
       "    </tr>\n",
       "    <tr>\n",
       "      <th>East</th>\n",
       "      <td>6592977.468</td>\n",
       "    </tr>\n",
       "    <tr>\n",
       "      <th>South</th>\n",
       "      <td>3755565.711</td>\n",
       "    </tr>\n",
       "    <tr>\n",
       "      <th>West</th>\n",
       "      <td>7420224.279</td>\n",
       "    </tr>\n",
       "  </tbody>\n",
       "</table>\n",
       "</div>"
      ],
      "text/plain": [
       "                 sales_per_order\n",
       "customer_region                 \n",
       "Central              5394895.106\n",
       "East                 6592977.468\n",
       "South                3755565.711\n",
       "West                 7420224.279"
      ]
     },
     "execution_count": 50,
     "metadata": {},
     "output_type": "execute_result"
    }
   ],
   "source": [
    "Sales_by_Region"
   ]
  },
  {
   "cell_type": "code",
   "execution_count": 51,
   "id": "8830d32c",
   "metadata": {},
   "outputs": [
    {
     "data": {
      "image/png": "[encoded data removed]",
      "text/plain": [
       "<Figure size 1440x504 with 1 Axes>"
      ]
     },
     "metadata": {
      "needs_background": "light"
     },
     "output_type": "display_data"
    }
   ],
   "source": [
    "Sales_by_Region.plot(kind='bar',figsize=(20,7))\n",
    "plt.xlabel('Region')\n",
    "plt.ylabel('Sales')\n",
    "plt.title('Region by Sales')\n",
    "Sales_by_Region = plt.gca().get_yticks()\n",
    "plt.gca().set_yticklabels(['{:,.0f}'.format(x) for x in Sales_by_Region])\n",
    "plt.show()"
   ]
  },
  {
   "cell_type": "markdown",
   "id": "5dc9fde3",
   "metadata": {},
   "source": [
    "From the above Bar chart we can conclude that 'West Region' as the best sales report among other Regions followed by East, Central and South Regions. 'South Region' has the worst sales report."
   ]
  },
  {
   "cell_type": "markdown",
   "id": "9b561b2d",
   "metadata": {},
   "source": [
    "**4)Sales by shipping type to get the best shipping type percentage.**"
   ]
  },
  {
   "cell_type": "code",
   "execution_count": 52,
   "id": "9a31a552",
   "metadata": {},
   "outputs": [
    {
     "data": {
      "text/plain": [
       "array(['Second Class', 'Standard Class', 'First Class', 'Same Day'],\n",
       "      dtype=object)"
      ]
     },
     "execution_count": 52,
     "metadata": {},
     "output_type": "execute_result"
    }
   ],
   "source": [
    "ec.shipping_type.unique()"
   ]
  },
  {
   "cell_type": "code",
   "execution_count": 53,
   "id": "aee8f05a",
   "metadata": {},
   "outputs": [
    {
     "data": {
      "text/plain": [
       "4"
      ]
     },
     "execution_count": 53,
     "metadata": {},
     "output_type": "execute_result"
    }
   ],
   "source": [
    "len(ec.shipping_type.unique())"
   ]
  },
  {
   "cell_type": "code",
   "execution_count": 54,
   "id": "5f3c8efe",
   "metadata": {},
   "outputs": [],
   "source": [
    "Sales_by_shipping_type = ec.groupby([\"shipping_type\"])[[\"sales_per_order\"]].sum()"
   ]
  },
  {
   "cell_type": "code",
   "execution_count": 55,
   "id": "6d943571",
   "metadata": {},
   "outputs": [
    {
     "data": {
      "text/html": [
       "<div>\n",
       "<style scoped>\n",
       "    .dataframe tbody tr th:only-of-type {\n",
       "        vertical-align: middle;\n",
       "    }\n",
       "\n",
       "    .dataframe tbody tr th {\n",
       "        vertical-align: top;\n",
       "    }\n",
       "\n",
       "    .dataframe thead th {\n",
       "        text-align: right;\n",
       "    }\n",
       "</style>\n",
       "<table border=\"1\" class=\"dataframe\">\n",
       "  <thead>\n",
       "    <tr style=\"text-align: right;\">\n",
       "      <th></th>\n",
       "      <th>sales_per_order</th>\n",
       "    </tr>\n",
       "    <tr>\n",
       "      <th>shipping_type</th>\n",
       "      <th></th>\n",
       "    </tr>\n",
       "  </thead>\n",
       "  <tbody>\n",
       "    <tr>\n",
       "      <th>First Class</th>\n",
       "      <td>3595518.497</td>\n",
       "    </tr>\n",
       "    <tr>\n",
       "      <th>Same Day</th>\n",
       "      <td>1224602.111</td>\n",
       "    </tr>\n",
       "    <tr>\n",
       "      <th>Second Class</th>\n",
       "      <td>4496222.985</td>\n",
       "    </tr>\n",
       "    <tr>\n",
       "      <th>Standard Class</th>\n",
       "      <td>13847318.971</td>\n",
       "    </tr>\n",
       "  </tbody>\n",
       "</table>\n",
       "</div>"
      ],
      "text/plain": [
       "                sales_per_order\n",
       "shipping_type                  \n",
       "First Class         3595518.497\n",
       "Same Day            1224602.111\n",
       "Second Class        4496222.985\n",
       "Standard Class     13847318.971"
      ]
     },
     "execution_count": 55,
     "metadata": {},
     "output_type": "execute_result"
    }
   ],
   "source": [
    "Sales_by_shipping_type"
   ]
  },
  {
   "cell_type": "code",
   "execution_count": 56,
   "id": "3583c995",
   "metadata": {},
   "outputs": [],
   "source": [
    "Sales_by_shipping_type['Sales_percentage_by_best_shipping_type'] = (Sales_by_shipping_type['sales_per_order']/\n",
    "                                                                    Sales_by_shipping_type['sales_per_order'].sum())*100"
   ]
  },
  {
   "cell_type": "code",
   "execution_count": 57,
   "id": "40c1218f",
   "metadata": {
    "scrolled": true
   },
   "outputs": [
    {
     "data": {
      "text/html": [
       "<div>\n",
       "<style scoped>\n",
       "    .dataframe tbody tr th:only-of-type {\n",
       "        vertical-align: middle;\n",
       "    }\n",
       "\n",
       "    .dataframe tbody tr th {\n",
       "        vertical-align: top;\n",
       "    }\n",
       "\n",
       "    .dataframe thead th {\n",
       "        text-align: right;\n",
       "    }\n",
       "</style>\n",
       "<table border=\"1\" class=\"dataframe\">\n",
       "  <thead>\n",
       "    <tr style=\"text-align: right;\">\n",
       "      <th></th>\n",
       "      <th>sales_per_order</th>\n",
       "      <th>Sales_percentage_by_best_shipping_type</th>\n",
       "    </tr>\n",
       "    <tr>\n",
       "      <th>shipping_type</th>\n",
       "      <th></th>\n",
       "      <th></th>\n",
       "    </tr>\n",
       "  </thead>\n",
       "  <tbody>\n",
       "    <tr>\n",
       "      <th>First Class</th>\n",
       "      <td>3595518.497</td>\n",
       "      <td>15.522</td>\n",
       "    </tr>\n",
       "    <tr>\n",
       "      <th>Same Day</th>\n",
       "      <td>1224602.111</td>\n",
       "      <td>5.287</td>\n",
       "    </tr>\n",
       "    <tr>\n",
       "      <th>Second Class</th>\n",
       "      <td>4496222.985</td>\n",
       "      <td>19.411</td>\n",
       "    </tr>\n",
       "    <tr>\n",
       "      <th>Standard Class</th>\n",
       "      <td>13847318.971</td>\n",
       "      <td>59.780</td>\n",
       "    </tr>\n",
       "  </tbody>\n",
       "</table>\n",
       "</div>"
      ],
      "text/plain": [
       "                sales_per_order  Sales_percentage_by_best_shipping_type\n",
       "shipping_type                                                          \n",
       "First Class         3595518.497                                  15.522\n",
       "Same Day            1224602.111                                   5.287\n",
       "Second Class        4496222.985                                  19.411\n",
       "Standard Class     13847318.971                                  59.780"
      ]
     },
     "execution_count": 57,
     "metadata": {},
     "output_type": "execute_result"
    }
   ],
   "source": [
    "Sales_by_shipping_type"
   ]
  },
  {
   "cell_type": "code",
   "execution_count": 58,
   "id": "b27a589c",
   "metadata": {
    "scrolled": true
   },
   "outputs": [],
   "source": [
    "Percentage_by_best_shipping_type = Sales_by_shipping_type.filter(['shipping_type','Sales_percentage_by_best_shipping_type'],axis=1)"
   ]
  },
  {
   "cell_type": "code",
   "execution_count": 59,
   "id": "afe00cdb",
   "metadata": {},
   "outputs": [
    {
     "data": {
      "text/html": [
       "<div>\n",
       "<style scoped>\n",
       "    .dataframe tbody tr th:only-of-type {\n",
       "        vertical-align: middle;\n",
       "    }\n",
       "\n",
       "    .dataframe tbody tr th {\n",
       "        vertical-align: top;\n",
       "    }\n",
       "\n",
       "    .dataframe thead th {\n",
       "        text-align: right;\n",
       "    }\n",
       "</style>\n",
       "<table border=\"1\" class=\"dataframe\">\n",
       "  <thead>\n",
       "    <tr style=\"text-align: right;\">\n",
       "      <th></th>\n",
       "      <th>Sales_percentage_by_best_shipping_type</th>\n",
       "    </tr>\n",
       "    <tr>\n",
       "      <th>shipping_type</th>\n",
       "      <th></th>\n",
       "    </tr>\n",
       "  </thead>\n",
       "  <tbody>\n",
       "    <tr>\n",
       "      <th>First Class</th>\n",
       "      <td>15.522</td>\n",
       "    </tr>\n",
       "    <tr>\n",
       "      <th>Same Day</th>\n",
       "      <td>5.287</td>\n",
       "    </tr>\n",
       "    <tr>\n",
       "      <th>Second Class</th>\n",
       "      <td>19.411</td>\n",
       "    </tr>\n",
       "    <tr>\n",
       "      <th>Standard Class</th>\n",
       "      <td>59.780</td>\n",
       "    </tr>\n",
       "  </tbody>\n",
       "</table>\n",
       "</div>"
      ],
      "text/plain": [
       "                Sales_percentage_by_best_shipping_type\n",
       "shipping_type                                         \n",
       "First Class                                     15.522\n",
       "Same Day                                         5.287\n",
       "Second Class                                    19.411\n",
       "Standard Class                                  59.780"
      ]
     },
     "execution_count": 59,
     "metadata": {},
     "output_type": "execute_result"
    }
   ],
   "source": [
    "Percentage_by_best_shipping_type"
   ]
  },
  {
   "cell_type": "code",
   "execution_count": 60,
   "id": "fdce1c68",
   "metadata": {},
   "outputs": [
    {
     "data": {
      "image/png": "[encoded data removed]",
      "text/plain": [
       "<Figure size 1440x504 with 1 Axes>"
      ]
     },
     "metadata": {
      "needs_background": "light"
     },
     "output_type": "display_data"
    }
   ],
   "source": [
    "Percentage_by_best_shipping_type.plot(kind='bar',figsize=(20,7))\n",
    "plt.xlabel('Shipping type')\n",
    "plt.ylabel('Best Shipping type percentage')\n",
    "plt.title('Best Shipping type by sales percentage')\n",
    "Percentage_by_best_shipping_type = plt.gca().get_yticks()\n",
    "plt.gca().set_yticklabels(['{:,.0f}'.format(x) for x in Percentage_by_best_shipping_type])\n",
    "plt.show()"
   ]
  },
  {
   "cell_type": "markdown",
   "id": "62fe1b35",
   "metadata": {},
   "source": [
    "From the above Bar chart we can conclude that 'Standard Class' as the best Shipping type with almost 60% of sales occured compared to others."
   ]
  },
  {
   "cell_type": "markdown",
   "id": "e63392b3",
   "metadata": {},
   "source": [
    "**5)Analyze the sales on daily, weekly and monthly basis.**"
   ]
  },
  {
   "cell_type": "code",
   "execution_count": 61,
   "id": "647f7e1a",
   "metadata": {},
   "outputs": [
    {
     "data": {
      "text/plain": [
       "0   2022-11-05\n",
       "1   2022-06-20\n",
       "2   2022-06-25\n",
       "3   2022-10-06\n",
       "4   2022-02-05\n",
       "Name: order_date, dtype: datetime64[ns]"
      ]
     },
     "execution_count": 61,
     "metadata": {},
     "output_type": "execute_result"
    }
   ],
   "source": [
    "ec.order_date.head()"
   ]
  },
  {
   "cell_type": "code",
   "execution_count": 62,
   "id": "cadcef37",
   "metadata": {},
   "outputs": [],
   "source": [
    "Sales_by_time = ec.filter(['order_date','sales_per_order'])"
   ]
  },
  {
   "cell_type": "code",
   "execution_count": 63,
   "id": "cfd59f4b",
   "metadata": {},
   "outputs": [
    {
     "data": {
      "text/html": [
       "<div>\n",
       "<style scoped>\n",
       "    .dataframe tbody tr th:only-of-type {\n",
       "        vertical-align: middle;\n",
       "    }\n",
       "\n",
       "    .dataframe tbody tr th {\n",
       "        vertical-align: top;\n",
       "    }\n",
       "\n",
       "    .dataframe thead th {\n",
       "        text-align: right;\n",
       "    }\n",
       "</style>\n",
       "<table border=\"1\" class=\"dataframe\">\n",
       "  <thead>\n",
       "    <tr style=\"text-align: right;\">\n",
       "      <th></th>\n",
       "      <th>order_date</th>\n",
       "      <th>sales_per_order</th>\n",
       "    </tr>\n",
       "  </thead>\n",
       "  <tbody>\n",
       "    <tr>\n",
       "      <th>0</th>\n",
       "      <td>2022-11-05</td>\n",
       "      <td>500.000</td>\n",
       "    </tr>\n",
       "    <tr>\n",
       "      <th>1</th>\n",
       "      <td>2022-06-20</td>\n",
       "      <td>500.000</td>\n",
       "    </tr>\n",
       "    <tr>\n",
       "      <th>2</th>\n",
       "      <td>2022-06-25</td>\n",
       "      <td>44.000</td>\n",
       "    </tr>\n",
       "    <tr>\n",
       "      <th>3</th>\n",
       "      <td>2022-10-06</td>\n",
       "      <td>254.000</td>\n",
       "    </tr>\n",
       "    <tr>\n",
       "      <th>4</th>\n",
       "      <td>2022-02-05</td>\n",
       "      <td>500.000</td>\n",
       "    </tr>\n",
       "  </tbody>\n",
       "</table>\n",
       "</div>"
      ],
      "text/plain": [
       "  order_date  sales_per_order\n",
       "0 2022-11-05          500.000\n",
       "1 2022-06-20          500.000\n",
       "2 2022-06-25           44.000\n",
       "3 2022-10-06          254.000\n",
       "4 2022-02-05          500.000"
      ]
     },
     "execution_count": 63,
     "metadata": {},
     "output_type": "execute_result"
    }
   ],
   "source": [
    "Sales_by_time.head()"
   ]
  },
  {
   "cell_type": "code",
   "execution_count": 64,
   "id": "9ab970d8",
   "metadata": {
    "scrolled": true
   },
   "outputs": [
    {
     "data": {
      "text/html": [
       "<div>\n",
       "<style scoped>\n",
       "    .dataframe tbody tr th:only-of-type {\n",
       "        vertical-align: middle;\n",
       "    }\n",
       "\n",
       "    .dataframe tbody tr th {\n",
       "        vertical-align: top;\n",
       "    }\n",
       "\n",
       "    .dataframe thead th {\n",
       "        text-align: right;\n",
       "    }\n",
       "</style>\n",
       "<table border=\"1\" class=\"dataframe\">\n",
       "  <thead>\n",
       "    <tr style=\"text-align: right;\">\n",
       "      <th></th>\n",
       "      <th>order_date</th>\n",
       "      <th>sales_per_order</th>\n",
       "      <th>Year</th>\n",
       "    </tr>\n",
       "  </thead>\n",
       "  <tbody>\n",
       "    <tr>\n",
       "      <th>0</th>\n",
       "      <td>2022-11-05</td>\n",
       "      <td>500.000</td>\n",
       "      <td>2022</td>\n",
       "    </tr>\n",
       "    <tr>\n",
       "      <th>1</th>\n",
       "      <td>2022-06-20</td>\n",
       "      <td>500.000</td>\n",
       "      <td>2022</td>\n",
       "    </tr>\n",
       "    <tr>\n",
       "      <th>2</th>\n",
       "      <td>2022-06-25</td>\n",
       "      <td>44.000</td>\n",
       "      <td>2022</td>\n",
       "    </tr>\n",
       "    <tr>\n",
       "      <th>3</th>\n",
       "      <td>2022-10-06</td>\n",
       "      <td>254.000</td>\n",
       "      <td>2022</td>\n",
       "    </tr>\n",
       "    <tr>\n",
       "      <th>4</th>\n",
       "      <td>2022-02-05</td>\n",
       "      <td>500.000</td>\n",
       "      <td>2022</td>\n",
       "    </tr>\n",
       "    <tr>\n",
       "      <th>5</th>\n",
       "      <td>2022-06-24</td>\n",
       "      <td>500.000</td>\n",
       "      <td>2022</td>\n",
       "    </tr>\n",
       "    <tr>\n",
       "      <th>6</th>\n",
       "      <td>2022-07-10</td>\n",
       "      <td>299.980</td>\n",
       "      <td>2022</td>\n",
       "    </tr>\n",
       "    <tr>\n",
       "      <th>7</th>\n",
       "      <td>2022-01-26</td>\n",
       "      <td>299.980</td>\n",
       "      <td>2022</td>\n",
       "    </tr>\n",
       "    <tr>\n",
       "      <th>8</th>\n",
       "      <td>2022-09-03</td>\n",
       "      <td>299.980</td>\n",
       "      <td>2022</td>\n",
       "    </tr>\n",
       "    <tr>\n",
       "      <th>9</th>\n",
       "      <td>2022-03-19</td>\n",
       "      <td>299.980</td>\n",
       "      <td>2022</td>\n",
       "    </tr>\n",
       "  </tbody>\n",
       "</table>\n",
       "</div>"
      ],
      "text/plain": [
       "  order_date  sales_per_order  Year\n",
       "0 2022-11-05          500.000  2022\n",
       "1 2022-06-20          500.000  2022\n",
       "2 2022-06-25           44.000  2022\n",
       "3 2022-10-06          254.000  2022\n",
       "4 2022-02-05          500.000  2022\n",
       "5 2022-06-24          500.000  2022\n",
       "6 2022-07-10          299.980  2022\n",
       "7 2022-01-26          299.980  2022\n",
       "8 2022-09-03          299.980  2022\n",
       "9 2022-03-19          299.980  2022"
      ]
     },
     "execution_count": 64,
     "metadata": {},
     "output_type": "execute_result"
    }
   ],
   "source": [
    "Sales_by_time['Year'] = Sales_by_time['order_date'].dt.strftime('%Y')\n",
    "Sales_by_time.head(10)                                                           "
   ]
  },
  {
   "cell_type": "code",
   "execution_count": 65,
   "id": "7fb2014e",
   "metadata": {},
   "outputs": [
    {
     "data": {
      "text/plain": [
       "array(['2022', '2021'], dtype=object)"
      ]
     },
     "execution_count": 65,
     "metadata": {},
     "output_type": "execute_result"
    }
   ],
   "source": [
    "Sales_by_time.Year.unique()"
   ]
  },
  {
   "cell_type": "code",
   "execution_count": 66,
   "id": "2f069e4a",
   "metadata": {},
   "outputs": [],
   "source": [
    "Dataframe = pd.DataFrame(Sales_by_time, columns = [ 'order_date','sales_per_order'])"
   ]
  },
  {
   "cell_type": "code",
   "execution_count": 67,
   "id": "e438f1c8",
   "metadata": {},
   "outputs": [
    {
     "data": {
      "text/html": [
       "<div>\n",
       "<style scoped>\n",
       "    .dataframe tbody tr th:only-of-type {\n",
       "        vertical-align: middle;\n",
       "    }\n",
       "\n",
       "    .dataframe tbody tr th {\n",
       "        vertical-align: top;\n",
       "    }\n",
       "\n",
       "    .dataframe thead th {\n",
       "        text-align: right;\n",
       "    }\n",
       "</style>\n",
       "<table border=\"1\" class=\"dataframe\">\n",
       "  <thead>\n",
       "    <tr style=\"text-align: right;\">\n",
       "      <th></th>\n",
       "      <th>order_date</th>\n",
       "      <th>sales_per_order</th>\n",
       "    </tr>\n",
       "  </thead>\n",
       "  <tbody>\n",
       "    <tr>\n",
       "      <th>0</th>\n",
       "      <td>2022-11-05</td>\n",
       "      <td>500.000</td>\n",
       "    </tr>\n",
       "    <tr>\n",
       "      <th>1</th>\n",
       "      <td>2022-06-20</td>\n",
       "      <td>500.000</td>\n",
       "    </tr>\n",
       "    <tr>\n",
       "      <th>2</th>\n",
       "      <td>2022-06-25</td>\n",
       "      <td>44.000</td>\n",
       "    </tr>\n",
       "    <tr>\n",
       "      <th>3</th>\n",
       "      <td>2022-10-06</td>\n",
       "      <td>254.000</td>\n",
       "    </tr>\n",
       "    <tr>\n",
       "      <th>4</th>\n",
       "      <td>2022-02-05</td>\n",
       "      <td>500.000</td>\n",
       "    </tr>\n",
       "  </tbody>\n",
       "</table>\n",
       "</div>"
      ],
      "text/plain": [
       "  order_date  sales_per_order\n",
       "0 2022-11-05          500.000\n",
       "1 2022-06-20          500.000\n",
       "2 2022-06-25           44.000\n",
       "3 2022-10-06          254.000\n",
       "4 2022-02-05          500.000"
      ]
     },
     "execution_count": 67,
     "metadata": {},
     "output_type": "execute_result"
    }
   ],
   "source": [
    "Dataframe.head()"
   ]
  },
  {
   "cell_type": "code",
   "execution_count": 68,
   "id": "d0f3832c",
   "metadata": {},
   "outputs": [],
   "source": [
    "Dataframe.set_index('order_date',inplace=True)"
   ]
  },
  {
   "cell_type": "code",
   "execution_count": 69,
   "id": "3122dc82",
   "metadata": {},
   "outputs": [
    {
     "data": {
      "text/html": [
       "<div>\n",
       "<style scoped>\n",
       "    .dataframe tbody tr th:only-of-type {\n",
       "        vertical-align: middle;\n",
       "    }\n",
       "\n",
       "    .dataframe tbody tr th {\n",
       "        vertical-align: top;\n",
       "    }\n",
       "\n",
       "    .dataframe thead th {\n",
       "        text-align: right;\n",
       "    }\n",
       "</style>\n",
       "<table border=\"1\" class=\"dataframe\">\n",
       "  <thead>\n",
       "    <tr style=\"text-align: right;\">\n",
       "      <th></th>\n",
       "      <th>sales_per_order</th>\n",
       "    </tr>\n",
       "    <tr>\n",
       "      <th>order_date</th>\n",
       "      <th></th>\n",
       "    </tr>\n",
       "  </thead>\n",
       "  <tbody>\n",
       "    <tr>\n",
       "      <th>2022-11-05</th>\n",
       "      <td>500.000</td>\n",
       "    </tr>\n",
       "    <tr>\n",
       "      <th>2022-06-20</th>\n",
       "      <td>500.000</td>\n",
       "    </tr>\n",
       "    <tr>\n",
       "      <th>2022-06-25</th>\n",
       "      <td>44.000</td>\n",
       "    </tr>\n",
       "    <tr>\n",
       "      <th>2022-10-06</th>\n",
       "      <td>254.000</td>\n",
       "    </tr>\n",
       "    <tr>\n",
       "      <th>2022-02-05</th>\n",
       "      <td>500.000</td>\n",
       "    </tr>\n",
       "  </tbody>\n",
       "</table>\n",
       "</div>"
      ],
      "text/plain": [
       "            sales_per_order\n",
       "order_date                 \n",
       "2022-11-05          500.000\n",
       "2022-06-20          500.000\n",
       "2022-06-25           44.000\n",
       "2022-10-06          254.000\n",
       "2022-02-05          500.000"
      ]
     },
     "execution_count": 69,
     "metadata": {},
     "output_type": "execute_result"
    }
   ],
   "source": [
    "Dataframe.head()"
   ]
  },
  {
   "cell_type": "code",
   "execution_count": 70,
   "id": "ec36ab66",
   "metadata": {},
   "outputs": [],
   "source": [
    "def data_prep(Dataframe):\n",
    "    df=pd.DataFrame()\n",
    "    df['year'] = Dataframe.index.year\n",
    "    df['month'] = Dataframe.index.month\n",
    "    df['month_name'] = Dataframe.index.month_name()\n",
    "    df['week_of_year'] = Dataframe.index.weekofyear\n",
    "    df['quarter'] = Dataframe.index.quarter\n",
    "    df['day_of_week'] = Dataframe.index.dayofweek\n",
    "    df['day_of_week_name'] = Dataframe.index.day_name()\n",
    "    df['day_of_month'] = Dataframe.index.day\n",
    "    df['day_of_year'] = Dataframe.index.dayofyear\n",
    "    df['sales_per_order']=Dataframe.sales_per_order.values\n",
    "    \n",
    "    return df"
   ]
  },
  {
   "cell_type": "code",
   "execution_count": 71,
   "id": "32d15e8d",
   "metadata": {},
   "outputs": [],
   "source": [
    "df = data_prep(Dataframe)"
   ]
  },
  {
   "cell_type": "code",
   "execution_count": 72,
   "id": "f107c845",
   "metadata": {},
   "outputs": [
    {
     "data": {
      "text/html": [
       "<div>\n",
       "<style scoped>\n",
       "    .dataframe tbody tr th:only-of-type {\n",
       "        vertical-align: middle;\n",
       "    }\n",
       "\n",
       "    .dataframe tbody tr th {\n",
       "        vertical-align: top;\n",
       "    }\n",
       "\n",
       "    .dataframe thead th {\n",
       "        text-align: right;\n",
       "    }\n",
       "</style>\n",
       "<table border=\"1\" class=\"dataframe\">\n",
       "  <thead>\n",
       "    <tr style=\"text-align: right;\">\n",
       "      <th></th>\n",
       "      <th>year</th>\n",
       "      <th>month</th>\n",
       "      <th>month_name</th>\n",
       "      <th>week_of_year</th>\n",
       "      <th>quarter</th>\n",
       "      <th>day_of_week</th>\n",
       "      <th>day_of_week_name</th>\n",
       "      <th>day_of_month</th>\n",
       "      <th>day_of_year</th>\n",
       "      <th>sales_per_order</th>\n",
       "    </tr>\n",
       "  </thead>\n",
       "  <tbody>\n",
       "    <tr>\n",
       "      <th>0</th>\n",
       "      <td>2022</td>\n",
       "      <td>11</td>\n",
       "      <td>November</td>\n",
       "      <td>44</td>\n",
       "      <td>4</td>\n",
       "      <td>5</td>\n",
       "      <td>Saturday</td>\n",
       "      <td>5</td>\n",
       "      <td>309</td>\n",
       "      <td>500.000</td>\n",
       "    </tr>\n",
       "    <tr>\n",
       "      <th>1</th>\n",
       "      <td>2022</td>\n",
       "      <td>6</td>\n",
       "      <td>June</td>\n",
       "      <td>25</td>\n",
       "      <td>2</td>\n",
       "      <td>0</td>\n",
       "      <td>Monday</td>\n",
       "      <td>20</td>\n",
       "      <td>171</td>\n",
       "      <td>500.000</td>\n",
       "    </tr>\n",
       "    <tr>\n",
       "      <th>2</th>\n",
       "      <td>2022</td>\n",
       "      <td>6</td>\n",
       "      <td>June</td>\n",
       "      <td>25</td>\n",
       "      <td>2</td>\n",
       "      <td>5</td>\n",
       "      <td>Saturday</td>\n",
       "      <td>25</td>\n",
       "      <td>176</td>\n",
       "      <td>44.000</td>\n",
       "    </tr>\n",
       "    <tr>\n",
       "      <th>3</th>\n",
       "      <td>2022</td>\n",
       "      <td>10</td>\n",
       "      <td>October</td>\n",
       "      <td>40</td>\n",
       "      <td>4</td>\n",
       "      <td>3</td>\n",
       "      <td>Thursday</td>\n",
       "      <td>6</td>\n",
       "      <td>279</td>\n",
       "      <td>254.000</td>\n",
       "    </tr>\n",
       "    <tr>\n",
       "      <th>4</th>\n",
       "      <td>2022</td>\n",
       "      <td>2</td>\n",
       "      <td>February</td>\n",
       "      <td>5</td>\n",
       "      <td>1</td>\n",
       "      <td>5</td>\n",
       "      <td>Saturday</td>\n",
       "      <td>5</td>\n",
       "      <td>36</td>\n",
       "      <td>500.000</td>\n",
       "    </tr>\n",
       "    <tr>\n",
       "      <th>...</th>\n",
       "      <td>...</td>\n",
       "      <td>...</td>\n",
       "      <td>...</td>\n",
       "      <td>...</td>\n",
       "      <td>...</td>\n",
       "      <td>...</td>\n",
       "      <td>...</td>\n",
       "      <td>...</td>\n",
       "      <td>...</td>\n",
       "      <td>...</td>\n",
       "    </tr>\n",
       "    <tr>\n",
       "      <th>113265</th>\n",
       "      <td>2021</td>\n",
       "      <td>12</td>\n",
       "      <td>December</td>\n",
       "      <td>48</td>\n",
       "      <td>4</td>\n",
       "      <td>5</td>\n",
       "      <td>Saturday</td>\n",
       "      <td>4</td>\n",
       "      <td>338</td>\n",
       "      <td>199.990</td>\n",
       "    </tr>\n",
       "    <tr>\n",
       "      <th>113266</th>\n",
       "      <td>2022</td>\n",
       "      <td>12</td>\n",
       "      <td>December</td>\n",
       "      <td>51</td>\n",
       "      <td>4</td>\n",
       "      <td>0</td>\n",
       "      <td>Monday</td>\n",
       "      <td>19</td>\n",
       "      <td>353</td>\n",
       "      <td>31.080</td>\n",
       "    </tr>\n",
       "    <tr>\n",
       "      <th>113267</th>\n",
       "      <td>2021</td>\n",
       "      <td>3</td>\n",
       "      <td>March</td>\n",
       "      <td>11</td>\n",
       "      <td>1</td>\n",
       "      <td>2</td>\n",
       "      <td>Wednesday</td>\n",
       "      <td>17</td>\n",
       "      <td>76</td>\n",
       "      <td>199.990</td>\n",
       "    </tr>\n",
       "    <tr>\n",
       "      <th>113268</th>\n",
       "      <td>2021</td>\n",
       "      <td>4</td>\n",
       "      <td>April</td>\n",
       "      <td>13</td>\n",
       "      <td>2</td>\n",
       "      <td>6</td>\n",
       "      <td>Sunday</td>\n",
       "      <td>4</td>\n",
       "      <td>94</td>\n",
       "      <td>299.980</td>\n",
       "    </tr>\n",
       "    <tr>\n",
       "      <th>113269</th>\n",
       "      <td>2021</td>\n",
       "      <td>2</td>\n",
       "      <td>February</td>\n",
       "      <td>8</td>\n",
       "      <td>1</td>\n",
       "      <td>6</td>\n",
       "      <td>Sunday</td>\n",
       "      <td>28</td>\n",
       "      <td>59</td>\n",
       "      <td>129.990</td>\n",
       "    </tr>\n",
       "  </tbody>\n",
       "</table>\n",
       "<p>113270 rows × 10 columns</p>\n",
       "</div>"
      ],
      "text/plain": [
       "        year  month month_name  week_of_year  quarter  day_of_week  \\\n",
       "0       2022     11   November            44        4            5   \n",
       "1       2022      6       June            25        2            0   \n",
       "2       2022      6       June            25        2            5   \n",
       "3       2022     10    October            40        4            3   \n",
       "4       2022      2   February             5        1            5   \n",
       "...      ...    ...        ...           ...      ...          ...   \n",
       "113265  2021     12   December            48        4            5   \n",
       "113266  2022     12   December            51        4            0   \n",
       "113267  2021      3      March            11        1            2   \n",
       "113268  2021      4      April            13        2            6   \n",
       "113269  2021      2   February             8        1            6   \n",
       "\n",
       "       day_of_week_name  day_of_month  day_of_year  sales_per_order  \n",
       "0              Saturday             5          309          500.000  \n",
       "1                Monday            20          171          500.000  \n",
       "2              Saturday            25          176           44.000  \n",
       "3              Thursday             6          279          254.000  \n",
       "4              Saturday             5           36          500.000  \n",
       "...                 ...           ...          ...              ...  \n",
       "113265         Saturday             4          338          199.990  \n",
       "113266           Monday            19          353           31.080  \n",
       "113267        Wednesday            17           76          199.990  \n",
       "113268           Sunday             4           94          299.980  \n",
       "113269           Sunday            28           59          129.990  \n",
       "\n",
       "[113270 rows x 10 columns]"
      ]
     },
     "execution_count": 72,
     "metadata": {},
     "output_type": "execute_result"
    }
   ],
   "source": [
    "df"
   ]
  },
  {
   "cell_type": "code",
   "execution_count": 73,
   "id": "2a8e748f",
   "metadata": {},
   "outputs": [],
   "source": [
    "# Creating times grouped dataframes in order to analyse them\n",
    "df_year = df.groupby('year')['sales_per_order'].mean()\n",
    "df_month = df.groupby('month_name', sort = False)['sales_per_order'].mean()\n",
    "df_week_of_year = df.groupby('week_of_year')['sales_per_order'].mean()\n",
    "df_quarter = df.groupby('quarter')['sales_per_order'].mean()\n",
    "df_day_of_week = df.groupby('day_of_week_name', sort = False)['sales_per_order'].mean()\n",
    "df_day_of_month = df.groupby('day_of_month')['sales_per_order'].mean()\n",
    "df_day_of_year = df.groupby('day_of_year')['sales_per_order'].mean()"
   ]
  },
  {
   "cell_type": "code",
   "execution_count": 74,
   "id": "d9f2a3e5",
   "metadata": {
    "scrolled": true
   },
   "outputs": [
    {
     "data": {
      "image/png": "[encoded data removed]",
      "text/plain": [
       "<Figure size 432x288 with 1 Axes>"
      ]
     },
     "metadata": {
      "needs_background": "light"
     },
     "output_type": "display_data"
    }
   ],
   "source": [
    "##  plotting mean of sales for months \n",
    "sns.lineplot(x=df_month.index,y=df_month,data='df')\n",
    "plt.xticks(rotation=90)\n",
    "plt.show()"
   ]
  },
  {
   "cell_type": "markdown",
   "id": "9f681a4c",
   "metadata": {},
   "source": [
    "From the above Lineplot we can clearly observe that October, November and December has high sales compared to other months."
   ]
  },
  {
   "cell_type": "code",
   "execution_count": 75,
   "id": "48af6cdb",
   "metadata": {},
   "outputs": [
    {
     "data": {
      "text/plain": [
       "<AxesSubplot:xlabel='day_of_week_name', ylabel='sales_per_order'>"
      ]
     },
     "execution_count": 75,
     "metadata": {},
     "output_type": "execute_result"
    },
    {
     "data": {
      "image/png": "[encoded data removed]",
      "text/plain": [
       "<Figure size 432x288 with 1 Axes>"
      ]
     },
     "metadata": {
      "needs_background": "light"
     },
     "output_type": "display_data"
    }
   ],
   "source": [
    "##  plotting mean of sales for day of week\n",
    "sns.lineplot(x=df_day_of_week.index,y=df_day_of_week,data='df')"
   ]
  },
  {
   "cell_type": "markdown",
   "id": "7e40d134",
   "metadata": {},
   "source": [
    "From this line plot we can observe higher sales occured during Sunday, Monday, Tuesday, Friday.\n"
   ]
  },
  {
   "cell_type": "code",
   "execution_count": 76,
   "id": "a84dc1fe",
   "metadata": {},
   "outputs": [
    {
     "data": {
      "text/plain": [
       "<AxesSubplot:xlabel='day_of_month', ylabel='sales_per_order'>"
      ]
     },
     "execution_count": 76,
     "metadata": {},
     "output_type": "execute_result"
    },
    {
     "data": {
      "image/png": "[encoded data removed]",
      "text/plain": [
       "<Figure size 432x288 with 1 Axes>"
      ]
     },
     "metadata": {
      "needs_background": "light"
     },
     "output_type": "display_data"
    }
   ],
   "source": [
    "##  plotting mean of sales for day of month\n",
    "sns.lineplot(x=df_day_of_month.index,y=df_day_of_month,data='df')"
   ]
  },
  {
   "cell_type": "markdown",
   "id": "e46a3a40",
   "metadata": {},
   "source": [
    "**6)Find sales trends by product category.**"
   ]
  },
  {
   "cell_type": "code",
   "execution_count": 77,
   "id": "98d1d2e1",
   "metadata": {},
   "outputs": [
    {
     "data": {
      "text/plain": [
       "array(['Office Supplies', 'Furniture', 'Technology'], dtype=object)"
      ]
     },
     "execution_count": 77,
     "metadata": {},
     "output_type": "execute_result"
    }
   ],
   "source": [
    "ec.category_name.unique()"
   ]
  },
  {
   "cell_type": "code",
   "execution_count": 78,
   "id": "402168fa",
   "metadata": {},
   "outputs": [],
   "source": [
    "Sales_by_product_category = ec.groupby([\"category_name\"])[[\"sales_per_order\"]].sum()"
   ]
  },
  {
   "cell_type": "code",
   "execution_count": 79,
   "id": "1b1301b8",
   "metadata": {},
   "outputs": [
    {
     "data": {
      "text/html": [
       "<div>\n",
       "<style scoped>\n",
       "    .dataframe tbody tr th:only-of-type {\n",
       "        vertical-align: middle;\n",
       "    }\n",
       "\n",
       "    .dataframe tbody tr th {\n",
       "        vertical-align: top;\n",
       "    }\n",
       "\n",
       "    .dataframe thead th {\n",
       "        text-align: right;\n",
       "    }\n",
       "</style>\n",
       "<table border=\"1\" class=\"dataframe\">\n",
       "  <thead>\n",
       "    <tr style=\"text-align: right;\">\n",
       "      <th></th>\n",
       "      <th>sales_per_order</th>\n",
       "    </tr>\n",
       "    <tr>\n",
       "      <th>category_name</th>\n",
       "      <th></th>\n",
       "    </tr>\n",
       "  </thead>\n",
       "  <tbody>\n",
       "    <tr>\n",
       "      <th>Furniture</th>\n",
       "      <td>5012940.515</td>\n",
       "    </tr>\n",
       "    <tr>\n",
       "      <th>Office Supplies</th>\n",
       "      <td>13921614.583</td>\n",
       "    </tr>\n",
       "    <tr>\n",
       "      <th>Technology</th>\n",
       "      <td>4229107.467</td>\n",
       "    </tr>\n",
       "  </tbody>\n",
       "</table>\n",
       "</div>"
      ],
      "text/plain": [
       "                 sales_per_order\n",
       "category_name                   \n",
       "Furniture            5012940.515\n",
       "Office Supplies     13921614.583\n",
       "Technology           4229107.467"
      ]
     },
     "execution_count": 79,
     "metadata": {},
     "output_type": "execute_result"
    }
   ],
   "source": [
    "Sales_by_product_category"
   ]
  },
  {
   "cell_type": "code",
   "execution_count": 80,
   "id": "68455f72",
   "metadata": {},
   "outputs": [
    {
     "data": {
      "image/png": "[encoded data removed]",
      "text/plain": [
       "<Figure size 1440x504 with 1 Axes>"
      ]
     },
     "metadata": {
      "needs_background": "light"
     },
     "output_type": "display_data"
    }
   ],
   "source": [
    "Sales_by_product_category.plot(kind='bar',figsize=(20,7))\n",
    "plt.xlabel('Category_name')\n",
    "plt.ylabel('Sales')\n",
    "plt.title('Product Category by Sales')\n",
    "Sales_by_product_category = plt.gca().get_yticks()\n",
    "plt.gca().set_yticklabels(['{:,.0f}'.format(x) for x in Sales_by_product_category])\n",
    "plt.show()"
   ]
  },
  {
   "cell_type": "markdown",
   "id": "9555a7de",
   "metadata": {},
   "source": [
    "From the above Bar chart 'Office supplies' product category has the highest sales campared to 'Furniture' and 'Technology'."
   ]
  },
  {
   "cell_type": "markdown",
   "id": "24d54334",
   "metadata": {},
   "source": [
    "**7)Find sales trends by customer category.**"
   ]
  },
  {
   "cell_type": "code",
   "execution_count": 81,
   "id": "2f89da9f",
   "metadata": {},
   "outputs": [
    {
     "data": {
      "text/plain": [
       "array(['Corporate', 'Consumer', 'Home Office'], dtype=object)"
      ]
     },
     "execution_count": 81,
     "metadata": {},
     "output_type": "execute_result"
    }
   ],
   "source": [
    "ec.customer_segment.unique()"
   ]
  },
  {
   "cell_type": "code",
   "execution_count": 82,
   "id": "0ab6bde4",
   "metadata": {},
   "outputs": [],
   "source": [
    "Sales_by_customer_category = ec.groupby([\"customer_segment\"])[[\"sales_per_order\"]].sum()"
   ]
  },
  {
   "cell_type": "code",
   "execution_count": 83,
   "id": "f4eab77a",
   "metadata": {},
   "outputs": [
    {
     "data": {
      "text/html": [
       "<div>\n",
       "<style scoped>\n",
       "    .dataframe tbody tr th:only-of-type {\n",
       "        vertical-align: middle;\n",
       "    }\n",
       "\n",
       "    .dataframe tbody tr th {\n",
       "        vertical-align: top;\n",
       "    }\n",
       "\n",
       "    .dataframe thead th {\n",
       "        text-align: right;\n",
       "    }\n",
       "</style>\n",
       "<table border=\"1\" class=\"dataframe\">\n",
       "  <thead>\n",
       "    <tr style=\"text-align: right;\">\n",
       "      <th></th>\n",
       "      <th>sales_per_order</th>\n",
       "    </tr>\n",
       "    <tr>\n",
       "      <th>customer_segment</th>\n",
       "      <th></th>\n",
       "    </tr>\n",
       "  </thead>\n",
       "  <tbody>\n",
       "    <tr>\n",
       "      <th>Consumer</th>\n",
       "      <td>11989198.576</td>\n",
       "    </tr>\n",
       "    <tr>\n",
       "      <th>Corporate</th>\n",
       "      <td>7016755.673</td>\n",
       "    </tr>\n",
       "    <tr>\n",
       "      <th>Home Office</th>\n",
       "      <td>4157708.316</td>\n",
       "    </tr>\n",
       "  </tbody>\n",
       "</table>\n",
       "</div>"
      ],
      "text/plain": [
       "                  sales_per_order\n",
       "customer_segment                 \n",
       "Consumer             11989198.576\n",
       "Corporate             7016755.673\n",
       "Home Office           4157708.316"
      ]
     },
     "execution_count": 83,
     "metadata": {},
     "output_type": "execute_result"
    }
   ],
   "source": [
    "Sales_by_customer_category"
   ]
  },
  {
   "cell_type": "code",
   "execution_count": 84,
   "id": "879231c1",
   "metadata": {},
   "outputs": [
    {
     "data": {
      "image/png": "[encoded data removed]",
      "text/plain": [
       "<Figure size 1440x504 with 1 Axes>"
      ]
     },
     "metadata": {
      "needs_background": "light"
     },
     "output_type": "display_data"
    }
   ],
   "source": [
    "Sales_by_customer_category.plot(kind='bar',figsize=(20,7))\n",
    "plt.xlabel('Customer Category')\n",
    "plt.ylabel('Sales')\n",
    "plt.title('Customer Category by Sales')\n",
    "Sales_by_customer_category = plt.gca().get_yticks()\n",
    "plt.gca().set_yticklabels(['{:,.0f}'.format(x) for x in Sales_by_customer_category])\n",
    "plt.show()"
   ]
  },
  {
   "cell_type": "markdown",
   "id": "6f39050f",
   "metadata": {},
   "source": [
    "From the above Bar chart 'Consumer' customer category has the highest sales campared to 'Corporate' and 'Home office' Customer Category"
   ]
  },
  {
   "cell_type": "markdown",
   "id": "780f4dd0",
   "metadata": {},
   "source": [
    "**8)Profits based on States, products, and Regions.**"
   ]
  },
  {
   "cell_type": "code",
   "execution_count": 85,
   "id": "da8783a0",
   "metadata": {},
   "outputs": [],
   "source": [
    "Profits_by_state = ec.groupby([\"customer_state\"])[[\"profit_per_order\"]].sum()"
   ]
  },
  {
   "cell_type": "code",
   "execution_count": 86,
   "id": "7e83a4f0",
   "metadata": {},
   "outputs": [
    {
     "data": {
      "text/html": [
       "<div>\n",
       "<style scoped>\n",
       "    .dataframe tbody tr th:only-of-type {\n",
       "        vertical-align: middle;\n",
       "    }\n",
       "\n",
       "    .dataframe tbody tr th {\n",
       "        vertical-align: top;\n",
       "    }\n",
       "\n",
       "    .dataframe thead th {\n",
       "        text-align: right;\n",
       "    }\n",
       "</style>\n",
       "<table border=\"1\" class=\"dataframe\">\n",
       "  <thead>\n",
       "    <tr style=\"text-align: right;\">\n",
       "      <th></th>\n",
       "      <th>profit_per_order</th>\n",
       "    </tr>\n",
       "    <tr>\n",
       "      <th>customer_state</th>\n",
       "      <th></th>\n",
       "    </tr>\n",
       "  </thead>\n",
       "  <tbody>\n",
       "    <tr>\n",
       "      <th>Alabama</th>\n",
       "      <td>17128.670</td>\n",
       "    </tr>\n",
       "    <tr>\n",
       "      <th>Arizona</th>\n",
       "      <td>53641.300</td>\n",
       "    </tr>\n",
       "    <tr>\n",
       "      <th>Arkansas</th>\n",
       "      <td>14113.750</td>\n",
       "    </tr>\n",
       "    <tr>\n",
       "      <th>California</th>\n",
       "      <td>548001.210</td>\n",
       "    </tr>\n",
       "    <tr>\n",
       "      <th>Colorado</th>\n",
       "      <td>38934.670</td>\n",
       "    </tr>\n",
       "    <tr>\n",
       "      <th>Connecticut</th>\n",
       "      <td>21826.740</td>\n",
       "    </tr>\n",
       "    <tr>\n",
       "      <th>Delaware</th>\n",
       "      <td>25181.710</td>\n",
       "    </tr>\n",
       "    <tr>\n",
       "      <th>District of Columbia</th>\n",
       "      <td>3710.980</td>\n",
       "    </tr>\n",
       "    <tr>\n",
       "      <th>Florida</th>\n",
       "      <td>110026.700</td>\n",
       "    </tr>\n",
       "    <tr>\n",
       "      <th>Georgia</th>\n",
       "      <td>49375.650</td>\n",
       "    </tr>\n",
       "    <tr>\n",
       "      <th>Idaho</th>\n",
       "      <td>3798.340</td>\n",
       "    </tr>\n",
       "    <tr>\n",
       "      <th>Illinois</th>\n",
       "      <td>125730.390</td>\n",
       "    </tr>\n",
       "    <tr>\n",
       "      <th>Indiana</th>\n",
       "      <td>39786.640</td>\n",
       "    </tr>\n",
       "    <tr>\n",
       "      <th>Iowa</th>\n",
       "      <td>9416.830</td>\n",
       "    </tr>\n",
       "    <tr>\n",
       "      <th>Kansas</th>\n",
       "      <td>9293.240</td>\n",
       "    </tr>\n",
       "    <tr>\n",
       "      <th>Kentucky</th>\n",
       "      <td>32244.300</td>\n",
       "    </tr>\n",
       "    <tr>\n",
       "      <th>Louisiana</th>\n",
       "      <td>10351.010</td>\n",
       "    </tr>\n",
       "    <tr>\n",
       "      <th>Maine</th>\n",
       "      <td>3027.250</td>\n",
       "    </tr>\n",
       "    <tr>\n",
       "      <th>Maryland</th>\n",
       "      <td>33612.880</td>\n",
       "    </tr>\n",
       "    <tr>\n",
       "      <th>Massachusetts</th>\n",
       "      <td>33261.910</td>\n",
       "    </tr>\n",
       "    <tr>\n",
       "      <th>Michigan</th>\n",
       "      <td>55512.280</td>\n",
       "    </tr>\n",
       "    <tr>\n",
       "      <th>Minnesota</th>\n",
       "      <td>23772.450</td>\n",
       "    </tr>\n",
       "    <tr>\n",
       "      <th>Mississippi</th>\n",
       "      <td>21784.420</td>\n",
       "    </tr>\n",
       "    <tr>\n",
       "      <th>Missouri</th>\n",
       "      <td>9526.890</td>\n",
       "    </tr>\n",
       "    <tr>\n",
       "      <th>Montana</th>\n",
       "      <td>3349.480</td>\n",
       "    </tr>\n",
       "    <tr>\n",
       "      <th>Nebraska</th>\n",
       "      <td>10510.620</td>\n",
       "    </tr>\n",
       "    <tr>\n",
       "      <th>Nevada</th>\n",
       "      <td>13538.240</td>\n",
       "    </tr>\n",
       "    <tr>\n",
       "      <th>New Hampshire</th>\n",
       "      <td>7123.280</td>\n",
       "    </tr>\n",
       "    <tr>\n",
       "      <th>New Jersey</th>\n",
       "      <td>29626.990</td>\n",
       "    </tr>\n",
       "    <tr>\n",
       "      <th>New Mexico</th>\n",
       "      <td>14335.010</td>\n",
       "    </tr>\n",
       "    <tr>\n",
       "      <th>New York</th>\n",
       "      <td>299044.750</td>\n",
       "    </tr>\n",
       "    <tr>\n",
       "      <th>North Carolina</th>\n",
       "      <td>51998.480</td>\n",
       "    </tr>\n",
       "    <tr>\n",
       "      <th>North Dakota</th>\n",
       "      <td>1771.200</td>\n",
       "    </tr>\n",
       "    <tr>\n",
       "      <th>Ohio</th>\n",
       "      <td>117543.010</td>\n",
       "    </tr>\n",
       "    <tr>\n",
       "      <th>Oklahoma</th>\n",
       "      <td>19754.990</td>\n",
       "    </tr>\n",
       "    <tr>\n",
       "      <th>Oregon</th>\n",
       "      <td>33354.450</td>\n",
       "    </tr>\n",
       "    <tr>\n",
       "      <th>Pennsylvania</th>\n",
       "      <td>161159.900</td>\n",
       "    </tr>\n",
       "    <tr>\n",
       "      <th>Rhode Island</th>\n",
       "      <td>13844.380</td>\n",
       "    </tr>\n",
       "    <tr>\n",
       "      <th>South Carolina</th>\n",
       "      <td>6793.520</td>\n",
       "    </tr>\n",
       "    <tr>\n",
       "      <th>South Dakota</th>\n",
       "      <td>2829.390</td>\n",
       "    </tr>\n",
       "    <tr>\n",
       "      <th>Tennessee</th>\n",
       "      <td>46098.700</td>\n",
       "    </tr>\n",
       "    <tr>\n",
       "      <th>Texas</th>\n",
       "      <td>249437.530</td>\n",
       "    </tr>\n",
       "    <tr>\n",
       "      <th>Utah</th>\n",
       "      <td>12859.850</td>\n",
       "    </tr>\n",
       "    <tr>\n",
       "      <th>Vermont</th>\n",
       "      <td>1389.780</td>\n",
       "    </tr>\n",
       "    <tr>\n",
       "      <th>Virginia</th>\n",
       "      <td>53465.130</td>\n",
       "    </tr>\n",
       "    <tr>\n",
       "      <th>Washington</th>\n",
       "      <td>140622.220</td>\n",
       "    </tr>\n",
       "    <tr>\n",
       "      <th>West Virginia</th>\n",
       "      <td>1425.760</td>\n",
       "    </tr>\n",
       "    <tr>\n",
       "      <th>Wisconsin</th>\n",
       "      <td>27582.670</td>\n",
       "    </tr>\n",
       "    <tr>\n",
       "      <th>Wyoming</th>\n",
       "      <td>549.350</td>\n",
       "    </tr>\n",
       "  </tbody>\n",
       "</table>\n",
       "</div>"
      ],
      "text/plain": [
       "                      profit_per_order\n",
       "customer_state                        \n",
       "Alabama                      17128.670\n",
       "Arizona                      53641.300\n",
       "Arkansas                     14113.750\n",
       "California                  548001.210\n",
       "Colorado                     38934.670\n",
       "Connecticut                  21826.740\n",
       "Delaware                     25181.710\n",
       "District of Columbia          3710.980\n",
       "Florida                     110026.700\n",
       "Georgia                      49375.650\n",
       "Idaho                         3798.340\n",
       "Illinois                    125730.390\n",
       "Indiana                      39786.640\n",
       "Iowa                          9416.830\n",
       "Kansas                        9293.240\n",
       "Kentucky                     32244.300\n",
       "Louisiana                    10351.010\n",
       "Maine                         3027.250\n",
       "Maryland                     33612.880\n",
       "Massachusetts                33261.910\n",
       "Michigan                     55512.280\n",
       "Minnesota                    23772.450\n",
       "Mississippi                  21784.420\n",
       "Missouri                      9526.890\n",
       "Montana                       3349.480\n",
       "Nebraska                     10510.620\n",
       "Nevada                       13538.240\n",
       "New Hampshire                 7123.280\n",
       "New Jersey                   29626.990\n",
       "New Mexico                   14335.010\n",
       "New York                    299044.750\n",
       "North Carolina               51998.480\n",
       "North Dakota                  1771.200\n",
       "Ohio                        117543.010\n",
       "Oklahoma                     19754.990\n",
       "Oregon                       33354.450\n",
       "Pennsylvania                161159.900\n",
       "Rhode Island                 13844.380\n",
       "South Carolina                6793.520\n",
       "South Dakota                  2829.390\n",
       "Tennessee                    46098.700\n",
       "Texas                       249437.530\n",
       "Utah                         12859.850\n",
       "Vermont                       1389.780\n",
       "Virginia                     53465.130\n",
       "Washington                  140622.220\n",
       "West Virginia                 1425.760\n",
       "Wisconsin                    27582.670\n",
       "Wyoming                        549.350"
      ]
     },
     "execution_count": 86,
     "metadata": {},
     "output_type": "execute_result"
    }
   ],
   "source": [
    "Profits_by_state"
   ]
  },
  {
   "cell_type": "code",
   "execution_count": 87,
   "id": "5ed9f869",
   "metadata": {},
   "outputs": [],
   "source": [
    "Profits_by_state.sort_values(by = 'profit_per_order', ascending = False, inplace = True)"
   ]
  },
  {
   "cell_type": "code",
   "execution_count": 88,
   "id": "edce933c",
   "metadata": {},
   "outputs": [
    {
     "data": {
      "text/html": [
       "<div>\n",
       "<style scoped>\n",
       "    .dataframe tbody tr th:only-of-type {\n",
       "        vertical-align: middle;\n",
       "    }\n",
       "\n",
       "    .dataframe tbody tr th {\n",
       "        vertical-align: top;\n",
       "    }\n",
       "\n",
       "    .dataframe thead th {\n",
       "        text-align: right;\n",
       "    }\n",
       "</style>\n",
       "<table border=\"1\" class=\"dataframe\">\n",
       "  <thead>\n",
       "    <tr style=\"text-align: right;\">\n",
       "      <th></th>\n",
       "      <th>profit_per_order</th>\n",
       "    </tr>\n",
       "    <tr>\n",
       "      <th>customer_state</th>\n",
       "      <th></th>\n",
       "    </tr>\n",
       "  </thead>\n",
       "  <tbody>\n",
       "    <tr>\n",
       "      <th>California</th>\n",
       "      <td>548001.210</td>\n",
       "    </tr>\n",
       "    <tr>\n",
       "      <th>New York</th>\n",
       "      <td>299044.750</td>\n",
       "    </tr>\n",
       "    <tr>\n",
       "      <th>Texas</th>\n",
       "      <td>249437.530</td>\n",
       "    </tr>\n",
       "    <tr>\n",
       "      <th>Pennsylvania</th>\n",
       "      <td>161159.900</td>\n",
       "    </tr>\n",
       "    <tr>\n",
       "      <th>Washington</th>\n",
       "      <td>140622.220</td>\n",
       "    </tr>\n",
       "    <tr>\n",
       "      <th>Illinois</th>\n",
       "      <td>125730.390</td>\n",
       "    </tr>\n",
       "    <tr>\n",
       "      <th>Ohio</th>\n",
       "      <td>117543.010</td>\n",
       "    </tr>\n",
       "    <tr>\n",
       "      <th>Florida</th>\n",
       "      <td>110026.700</td>\n",
       "    </tr>\n",
       "    <tr>\n",
       "      <th>Michigan</th>\n",
       "      <td>55512.280</td>\n",
       "    </tr>\n",
       "    <tr>\n",
       "      <th>Arizona</th>\n",
       "      <td>53641.300</td>\n",
       "    </tr>\n",
       "  </tbody>\n",
       "</table>\n",
       "</div>"
      ],
      "text/plain": [
       "                profit_per_order\n",
       "customer_state                  \n",
       "California            548001.210\n",
       "New York              299044.750\n",
       "Texas                 249437.530\n",
       "Pennsylvania          161159.900\n",
       "Washington            140622.220\n",
       "Illinois              125730.390\n",
       "Ohio                  117543.010\n",
       "Florida               110026.700\n",
       "Michigan               55512.280\n",
       "Arizona                53641.300"
      ]
     },
     "execution_count": 88,
     "metadata": {},
     "output_type": "execute_result"
    }
   ],
   "source": [
    "Profits_by_state.head(10)"
   ]
  },
  {
   "cell_type": "code",
   "execution_count": 89,
   "id": "25da2fe2",
   "metadata": {},
   "outputs": [
    {
     "data": {
      "image/png": "[encoded data removed]",
      "text/plain": [
       "<Figure size 1440x504 with 1 Axes>"
      ]
     },
     "metadata": {
      "needs_background": "light"
     },
     "output_type": "display_data"
    }
   ],
   "source": [
    "Profits_by_state.plot(kind='bar',figsize=(20,7))\n",
    "plt.xlabel('States')\n",
    "plt.ylabel('Profits')\n",
    "plt.title('Top Profits by States')\n",
    "Profits_by_state = plt.gca().get_yticks()\n",
    "plt.gca().set_yticklabels(['{:,.0f}'.format(x) for x in Profits_by_state])\n",
    "plt.show()"
   ]
  },
  {
   "cell_type": "markdown",
   "id": "db567b67",
   "metadata": {},
   "source": [
    "From above Bar Graph we can observe that California, New York, Texas are the top three states which are providing best profits."
   ]
  },
  {
   "cell_type": "code",
   "execution_count": 90,
   "id": "8e26f3d8",
   "metadata": {},
   "outputs": [],
   "source": [
    "Profits_by_products = ec.groupby([\"product_name\"])[[\"profit_per_order\"]].sum()"
   ]
  },
  {
   "cell_type": "code",
   "execution_count": 91,
   "id": "63a3275b",
   "metadata": {},
   "outputs": [
    {
     "data": {
      "text/html": [
       "<div>\n",
       "<style scoped>\n",
       "    .dataframe tbody tr th:only-of-type {\n",
       "        vertical-align: middle;\n",
       "    }\n",
       "\n",
       "    .dataframe tbody tr th {\n",
       "        vertical-align: top;\n",
       "    }\n",
       "\n",
       "    .dataframe thead th {\n",
       "        text-align: right;\n",
       "    }\n",
       "</style>\n",
       "<table border=\"1\" class=\"dataframe\">\n",
       "  <thead>\n",
       "    <tr style=\"text-align: right;\">\n",
       "      <th></th>\n",
       "      <th>profit_per_order</th>\n",
       "    </tr>\n",
       "    <tr>\n",
       "      <th>product_name</th>\n",
       "      <th></th>\n",
       "    </tr>\n",
       "  </thead>\n",
       "  <tbody>\n",
       "    <tr>\n",
       "      <th>\"While you Were Out\" Message Book, One Form per Page</th>\n",
       "      <td>404.230</td>\n",
       "    </tr>\n",
       "    <tr>\n",
       "      <th>#10 Gummed Flap White Envelopes, 100/Box</th>\n",
       "      <td>1189.640</td>\n",
       "    </tr>\n",
       "    <tr>\n",
       "      <th>#10 Self-Seal White Envelopes</th>\n",
       "      <td>1599.520</td>\n",
       "    </tr>\n",
       "    <tr>\n",
       "      <th>#10 White Business Envelopes,4 1/8 x 9 1/2</th>\n",
       "      <td>676.040</td>\n",
       "    </tr>\n",
       "    <tr>\n",
       "      <th>#10- 4 1/8\" x 9 1/2\" Recycled Envelopes</th>\n",
       "      <td>3541.980</td>\n",
       "    </tr>\n",
       "  </tbody>\n",
       "</table>\n",
       "</div>"
      ],
      "text/plain": [
       "                                                    profit_per_order\n",
       "product_name                                                        \n",
       "\"While you Were Out\" Message Book, One Form per...           404.230\n",
       "#10 Gummed Flap White Envelopes, 100/Box                    1189.640\n",
       "#10 Self-Seal White Envelopes                               1599.520\n",
       "#10 White Business Envelopes,4 1/8 x 9 1/2                   676.040\n",
       "#10- 4 1/8\" x 9 1/2\" Recycled Envelopes                     3541.980"
      ]
     },
     "execution_count": 91,
     "metadata": {},
     "output_type": "execute_result"
    }
   ],
   "source": [
    "Profits_by_products.head()"
   ]
  },
  {
   "cell_type": "code",
   "execution_count": 92,
   "id": "bcff83a8",
   "metadata": {},
   "outputs": [],
   "source": [
    "Profits_by_products.sort_values(by = 'profit_per_order', ascending = False, inplace = True)"
   ]
  },
  {
   "cell_type": "code",
   "execution_count": 95,
   "id": "d6890ef7",
   "metadata": {},
   "outputs": [],
   "source": [
    "Top_10_profits_by_products = Profits_by_products.head(10)"
   ]
  },
  {
   "cell_type": "code",
   "execution_count": 96,
   "id": "af959f25",
   "metadata": {},
   "outputs": [
    {
     "data": {
      "image/png": "[encoded data removed]",
      "text/plain": [
       "<Figure size 1440x504 with 1 Axes>"
      ]
     },
     "metadata": {
      "needs_background": "light"
     },
     "output_type": "display_data"
    }
   ],
   "source": [
    "Top_10_profits_by_products.plot(kind='bar',figsize=(20,7))\n",
    "plt.xlabel('Products')\n",
    "plt.ylabel('Profits')\n",
    "plt.title('Top Profits by Products')\n",
    "Top_10_profits_by_products = plt.gca().get_yticks()\n",
    "plt.gca().set_yticklabels(['{:,.0f}'.format(x) for x in Top_10_profits_by_products])\n",
    "plt.show()"
   ]
  },
  {
   "cell_type": "markdown",
   "id": "319881cd",
   "metadata": {},
   "source": [
    "Top 10 Products that are given best profits."
   ]
  },
  {
   "cell_type": "code",
   "execution_count": 99,
   "id": "20deaf92",
   "metadata": {},
   "outputs": [],
   "source": [
    "Top_10_losses_by_products = Profits_by_products.tail(10)"
   ]
  },
  {
   "cell_type": "code",
   "execution_count": 100,
   "id": "bfbccddc",
   "metadata": {},
   "outputs": [
    {
     "data": {
      "text/html": [
       "<div>\n",
       "<style scoped>\n",
       "    .dataframe tbody tr th:only-of-type {\n",
       "        vertical-align: middle;\n",
       "    }\n",
       "\n",
       "    .dataframe tbody tr th {\n",
       "        vertical-align: top;\n",
       "    }\n",
       "\n",
       "    .dataframe thead th {\n",
       "        text-align: right;\n",
       "    }\n",
       "</style>\n",
       "<table border=\"1\" class=\"dataframe\">\n",
       "  <thead>\n",
       "    <tr style=\"text-align: right;\">\n",
       "      <th></th>\n",
       "      <th>profit_per_order</th>\n",
       "    </tr>\n",
       "    <tr>\n",
       "      <th>product_name</th>\n",
       "      <th></th>\n",
       "    </tr>\n",
       "  </thead>\n",
       "  <tbody>\n",
       "    <tr>\n",
       "      <th>Avery 491</th>\n",
       "      <td>-1269.600</td>\n",
       "    </tr>\n",
       "    <tr>\n",
       "      <th>Avery 479</th>\n",
       "      <td>-1383.680</td>\n",
       "    </tr>\n",
       "    <tr>\n",
       "      <th>50 Colored Long Pencils</th>\n",
       "      <td>-1404.610</td>\n",
       "    </tr>\n",
       "    <tr>\n",
       "      <th>Tenex File Box, Personal Filing Tote with Lid, Black</th>\n",
       "      <td>-1605.950</td>\n",
       "    </tr>\n",
       "    <tr>\n",
       "      <th>Alliance Big Bands Rubber Bands, 12/Pack</th>\n",
       "      <td>-1662.470</td>\n",
       "    </tr>\n",
       "    <tr>\n",
       "      <th>Executive Impressions 13-1/2\" Indoor/Outdoor Wall Clock</th>\n",
       "      <td>-1817.490</td>\n",
       "    </tr>\n",
       "    <tr>\n",
       "      <th>Logitech Mobile Speakerphone P710e - speaker phone</th>\n",
       "      <td>-1997.720</td>\n",
       "    </tr>\n",
       "    <tr>\n",
       "      <th>Global Armless Task Chair, Royal Blue</th>\n",
       "      <td>-2182.870</td>\n",
       "    </tr>\n",
       "    <tr>\n",
       "      <th>Logitech Gaming G510s - Keyboard</th>\n",
       "      <td>-2507.070</td>\n",
       "    </tr>\n",
       "    <tr>\n",
       "      <th>Bush Advantage Collection Round Conference Table</th>\n",
       "      <td>-2578.690</td>\n",
       "    </tr>\n",
       "  </tbody>\n",
       "</table>\n",
       "</div>"
      ],
      "text/plain": [
       "                                                    profit_per_order\n",
       "product_name                                                        \n",
       "Avery 491                                                  -1269.600\n",
       "Avery 479                                                  -1383.680\n",
       "50 Colored Long Pencils                                    -1404.610\n",
       "Tenex File Box, Personal Filing Tote with Lid, ...         -1605.950\n",
       "Alliance Big Bands Rubber Bands, 12/Pack                   -1662.470\n",
       "Executive Impressions 13-1/2\" Indoor/Outdoor Wa...         -1817.490\n",
       "Logitech Mobile Speakerphone P710e - speaker phone         -1997.720\n",
       "Global Armless Task Chair, Royal Blue                      -2182.870\n",
       "Logitech Gaming G510s - Keyboard                           -2507.070\n",
       "Bush Advantage Collection Round Conference Table           -2578.690"
      ]
     },
     "execution_count": 100,
     "metadata": {},
     "output_type": "execute_result"
    }
   ],
   "source": [
    "Top_10_losses_by_products"
   ]
  },
  {
   "cell_type": "code",
   "execution_count": 101,
   "id": "f372a3f4",
   "metadata": {},
   "outputs": [
    {
     "data": {
      "image/png": "[encoded data removed]",
      "text/plain": [
       "<Figure size 1440x504 with 1 Axes>"
      ]
     },
     "metadata": {
      "needs_background": "light"
     },
     "output_type": "display_data"
    }
   ],
   "source": [
    "Top_10_losses_by_products.plot(kind='bar',figsize=(20,7))\n",
    "plt.xlabel('Products')\n",
    "plt.ylabel('Losses')\n",
    "plt.title('Top Losses by Products')\n",
    "Top_10_losses_by_products = plt.gca().get_yticks()\n",
    "plt.gca().set_yticklabels(['{:,.0f}'.format(x) for x in Top_10_losses_by_products])\n",
    "plt.show()"
   ]
  },
  {
   "cell_type": "code",
   "execution_count": 102,
   "id": "a771bc09",
   "metadata": {},
   "outputs": [],
   "source": [
    "Profits_by_Region = ec.groupby([\"customer_region\"])[[\"profit_per_order\"]].sum()"
   ]
  },
  {
   "cell_type": "code",
   "execution_count": 103,
   "id": "d56a09e8",
   "metadata": {},
   "outputs": [
    {
     "data": {
      "text/html": [
       "<div>\n",
       "<style scoped>\n",
       "    .dataframe tbody tr th:only-of-type {\n",
       "        vertical-align: middle;\n",
       "    }\n",
       "\n",
       "    .dataframe tbody tr th {\n",
       "        vertical-align: top;\n",
       "    }\n",
       "\n",
       "    .dataframe thead th {\n",
       "        text-align: right;\n",
       "    }\n",
       "</style>\n",
       "<table border=\"1\" class=\"dataframe\">\n",
       "  <thead>\n",
       "    <tr style=\"text-align: right;\">\n",
       "      <th></th>\n",
       "      <th>profit_per_order</th>\n",
       "    </tr>\n",
       "    <tr>\n",
       "      <th>customer_region</th>\n",
       "      <th></th>\n",
       "    </tr>\n",
       "  </thead>\n",
       "  <tbody>\n",
       "    <tr>\n",
       "      <th>Central</th>\n",
       "      <td>584925.121</td>\n",
       "    </tr>\n",
       "    <tr>\n",
       "      <th>East</th>\n",
       "      <td>751779.321</td>\n",
       "    </tr>\n",
       "    <tr>\n",
       "      <th>South</th>\n",
       "      <td>413380.331</td>\n",
       "    </tr>\n",
       "    <tr>\n",
       "      <th>West</th>\n",
       "      <td>862984.120</td>\n",
       "    </tr>\n",
       "  </tbody>\n",
       "</table>\n",
       "</div>"
      ],
      "text/plain": [
       "                 profit_per_order\n",
       "customer_region                  \n",
       "Central                584925.121\n",
       "East                   751779.321\n",
       "South                  413380.331\n",
       "West                   862984.120"
      ]
     },
     "execution_count": 103,
     "metadata": {},
     "output_type": "execute_result"
    }
   ],
   "source": [
    "Profits_by_Region"
   ]
  },
  {
   "cell_type": "code",
   "execution_count": 104,
   "id": "eb9ea01f",
   "metadata": {},
   "outputs": [
    {
     "data": {
      "image/png": "[encoded data removed]",
      "text/plain": [
       "<Figure size 1440x504 with 1 Axes>"
      ]
     },
     "metadata": {
      "needs_background": "light"
     },
     "output_type": "display_data"
    }
   ],
   "source": [
    "Profits_by_Region.plot(kind='bar',figsize=(20,7))\n",
    "plt.xlabel('Region')\n",
    "plt.ylabel('Profits')\n",
    "plt.title('Profits by Region')\n",
    "Profits_by_Region = plt.gca().get_yticks()\n",
    "plt.gca().set_yticklabels(['{:,.0f}'.format(x) for x in Profits_by_Region])\n",
    "plt.show()"
   ]
  },
  {
   "cell_type": "markdown",
   "id": "e01c96e1",
   "metadata": {},
   "source": [
    "From the above Bar Graph we can conclude that West Region has produced the best profit followed by East, Central and South\n",
    "Regions. South region has produced the least profit."
   ]
  },
  {
   "cell_type": "code",
   "execution_count": null,
   "id": "e3831e60",
   "metadata": {},
   "outputs": [],
   "source": []
  }
 ],
 "metadata": {
  "kernelspec": {
   "display_name": "Python 3 (ipykernel)",
   "language": "python",
   "name": "python3"
  },
  "language_info": {
   "codemirror_mode": {
    "name": "ipython",
    "version": 3
   },
   "file_extension": ".py",
   "mimetype": "text/x-python",
   "name": "python",
   "nbconvert_exporter": "python",
   "pygments_lexer": "ipython3",
   "version": "3.9.12"
  }
 },
 "nbformat": 4,
 "nbformat_minor": 5
}
